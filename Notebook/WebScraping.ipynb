{
 "cells": [
  {
   "cell_type": "markdown",
   "id": "e9012c00",
   "metadata": {},
   "source": [
    "# WebScraping para descargar los datos de Temperatura y Precipitación Datos Clima"
   ]
  },
  {
   "cell_type": "markdown",
   "id": "67f5d27d",
   "metadata": {},
   "source": [
    "## Indicaciones:\n",
    "\n",
    "- Insatalar libreria selenium\n",
    "- Para este caso, se debe utilizar el navegador Chrome\n",
    "- Descargar la aplicación \"Chromedriver\" --> enlace a la descarga: https://chromedriver.chromium.org/ (tener en cuenta la versión del navegador\n",
    "- Los datos a descargar se encuentran en la pagina web: https://www.ncei.noaa.gov/access/monitoring/climate-at-a-glance"
   ]
  },
  {
   "cell_type": "markdown",
   "id": "c9ee1d4b",
   "metadata": {},
   "source": [
    "conda install selenium"
   ]
  },
  {
   "cell_type": "code",
   "execution_count": 3,
   "id": "47ffa4a8",
   "metadata": {},
   "outputs": [],
   "source": [
    "from bs4 import BeautifulSoup\n",
    "from selenium import webdriver\n",
    "from selenium.webdriver.chrome.service import Service\n",
    "from selenium.webdriver.support.ui import Select\n",
    "\n",
    "import unittest\n",
    "from selenium.webdriver.common.keys import Keys\n",
    "import time\n",
    "\n",
    "from selenium.webdriver.support.ui import WebDriverWait\n",
    "from selenium.webdriver.common.by import By\n",
    "from selenium.webdriver.support import expected_conditions as EC"
   ]
  },
  {
   "cell_type": "markdown",
   "id": "b44aefab",
   "metadata": {},
   "source": [
    "## WebScraping datos Temperatura Media \n",
    "\n",
    "Selección de las temperaturas medias (ºF) para cada mes y para cada estado en el rango de años de 1950 hasta 2021"
   ]
  },
  {
   "cell_type": "code",
   "execution_count": 2,
   "id": "e6a6ac01",
   "metadata": {},
   "outputs": [],
   "source": [
    "#Enlace al la pagina web\n",
    "website = 'https://www.ncei.noaa.gov/access/monitoring/climate-at-a-glance'\n",
    "path = ('./chromedriver')\n",
    "\n",
    "driver = webdriver.Chrome(path)\n",
    "driver.get(website) \n",
    "\n",
    "#selección de los apartados a donde a donde se encuentra la información que busco\n",
    "divisional_click = driver.find_element_by_xpath('.//*[@id=\"sectionMenu\"]/li[4]/a').click()\n",
    "time_series_click = driver.find_element_by_xpath('.//*[@id=\"subsectionMenu\"]/li[2]/a').click()\n",
    "\n",
    "#selección de los años (para todos los archivos el mismo rango de 1950 - 2021)\n",
    "star_year_dropdown = Select(driver.find_element_by_id('begyear'))\n",
    "star_year_dropdown.select_by_visible_text('1950')\n",
    "end_year_dropdown = Select(driver.find_element_by_id('endyear'))\n",
    "end_year_dropdown.select_by_visible_text('2021')\n",
    "\n",
    "#selección del parametro a descargar:  Temperatura media\n",
    "parameter_dropdown = Select(driver.find_element_by_id(\"parameter\"))\n",
    "parameter_dropdown.select_by_visible_text('Average Temperature')\n",
    "\n",
    "#Creación de un for apra que recorra todos los estados y todos los meses:\n",
    "\n",
    "#selección del estado\n",
    "select_state = driver.find_element_by_xpath('.//*[@id=\"state\"]')\n",
    "opcion_state = select_state.find_elements_by_tag_name('option')\n",
    "\n",
    "#selección del mes\n",
    "select_month = driver.find_element_by_xpath('//*[@id=\"month\"]')\n",
    "opcion_month = select_month.find_elements_by_tag_name('option')\n",
    "\n",
    "for option in opcion_month:\n",
    "    option.click()\n",
    "\n",
    "    for option in opcion_state:\n",
    "        option.click()\n",
    "        plot = driver.find_element_by_xpath('.//*[@id=\"submit\"]').click()\n",
    "        time.sleep(3)\n",
    "        dowload = WebDriverWait(driver, 20).until(EC.element_to_be_clickable((By.CSS_SELECTOR, \"#formatted-data > a:nth-child(2)\"))).click()\n",
    "        time.sleep(4)"
   ]
  },
  {
   "cell_type": "markdown",
   "id": "57e1681c",
   "metadata": {},
   "source": [
    "## WebScraping datos Precipitaciones\n",
    "\n",
    "Selección de las precipitacones (mm) para cada mes y para cada estado en el rango de años de 1950 hasta 2021"
   ]
  },
  {
   "cell_type": "code",
   "execution_count": null,
   "id": "da2efaef",
   "metadata": {},
   "outputs": [],
   "source": [
    "#Enlace al la pagina web\n",
    "website = 'https://www.ncei.noaa.gov/access/monitoring/climate-at-a-glance'\n",
    "path = ('./chromedriver')\n",
    "\n",
    "driver = webdriver.Chrome(path)\n",
    "driver.get(website) \n",
    "\n",
    "#selección de los apartados a donde a donde se encuentra la información que busco\n",
    "divisional_click = driver.find_element_by_xpath('.//*[@id=\"sectionMenu\"]/li[4]/a').click()\n",
    "time_series_click = driver.find_element_by_xpath('.//*[@id=\"subsectionMenu\"]/li[2]/a').click()\n",
    "\n",
    "#selección de los años (para todos los archivos el mismo rango de 1950 - 2021)\n",
    "star_year_dropdown = Select(driver.find_element_by_id('begyear'))\n",
    "star_year_dropdown.select_by_visible_text('1950')\n",
    "end_year_dropdown = Select(driver.find_element_by_id('endyear'))\n",
    "end_year_dropdown.select_by_visible_text('2021')\n",
    "\n",
    "#selección del parametro a descargar:  Precipitación\n",
    "parameter_dropdown = Select(driver.find_element_by_id(\"parameter\"))\n",
    "parameter_dropdown.select_by_visible_text('Precipitation')\n",
    "\n",
    "#Creación de un for apra que recorra todos los estados y todos los meses:\n",
    "\n",
    "#selección del estado\n",
    "select_state = driver.find_element_by_xpath('.//*[@id=\"state\"]')\n",
    "opcion_state = select_state.find_elements_by_tag_name('option')\n",
    "\n",
    "#selección del mes\n",
    "select_month = driver.find_element_by_xpath('//*[@id=\"month\"]')\n",
    "opcion_month = select_month.find_elements_by_tag_name('option')\n",
    "\n",
    "for option in opcion_month:\n",
    "    option.click()\n",
    "\n",
    "    for option in opcion_state:\n",
    "        option.click()\n",
    "        plot = driver.find_element_by_xpath('.//*[@id=\"submit\"]').click()\n",
    "        time.sleep(3)\n",
    "        dowload = WebDriverWait(driver, 20).until(EC.element_to_be_clickable((By.CSS_SELECTOR, \"#formatted-data > a:nth-child(2)\"))).click()\n",
    "        time.sleep(4)"
   ]
  },
  {
   "cell_type": "code",
   "execution_count": null,
   "id": "36b8a886",
   "metadata": {},
   "outputs": [],
   "source": []
  }
 ],
 "metadata": {
  "kernelspec": {
   "display_name": "Python 3 (ipykernel)",
   "language": "python",
   "name": "python3"
  },
  "language_info": {
   "codemirror_mode": {
    "name": "ipython",
    "version": 3
   },
   "file_extension": ".py",
   "mimetype": "text/x-python",
   "name": "python",
   "nbconvert_exporter": "python",
   "pygments_lexer": "ipython3",
   "version": "3.8.11"
  }
 },
 "nbformat": 4,
 "nbformat_minor": 5
}
