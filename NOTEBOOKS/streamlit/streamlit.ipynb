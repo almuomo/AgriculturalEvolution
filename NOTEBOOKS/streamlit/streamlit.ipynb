{
 "cells": [
  {
   "cell_type": "code",
   "execution_count": 27,
   "metadata": {},
   "outputs": [
    {
     "name": "stdout",
     "output_type": "stream",
     "text": [
      "Overwriting app.py\n"
     ]
    }
   ],
   "source": [
    "%%writefile app.py\n",
    "\n",
    "import streamlit as st\n",
    "\n",
    "st.title('Aplicación guay de streamlit')\n",
    "st.subheader('How to run streamlit from windows')\n",
    "st.write(\"hello world\")\n",
    "\n",
    "menu = [\"Home\",'about']\n",
    "choice = st.sidebar.selectbox('Menu',menu)\n",
    "if choice=='Home':\n",
    "    st.subheader('Linux!!!')\n",
    "\n",
    "st.write(\"hello world\")"
   ]
  },
  {
   "cell_type": "code",
   "execution_count": 20,
   "metadata": {},
   "outputs": [
    {
     "name": "stdout",
     "output_type": "stream",
     "text": [
      "Overwriting app.py\n"
     ]
    }
   ],
   "source": [
    "%%writefile app.py\n",
    "\n",
    "import streamlit as st\n",
    "import pandas as pd\n",
    "import matplotlib.pyplot as plt\n",
    "\n",
    "st.title('Aplicación guay de streamlit')\n",
    "#mostrar tabla de datos\n",
    "df = pd.read_csv('https://raw.githubusercontent.com/KaonToPion/datasets/main/brain.csv')\n",
    "st.table(df.head())\n",
    "\n",
    "#grafico matplotly\n",
    "fig, ax = plt.subplots(figsize=(6,3))\n",
    "ax.scatter(df['Brain Weight'], df['Body Weight'])\n",
    "st.pyplot(fig)"
   ]
  },
  {
   "cell_type": "code",
   "execution_count": 29,
   "metadata": {},
   "outputs": [
    {
     "name": "stdout",
     "output_type": "stream",
     "text": [
      "Overwriting app.py\n"
     ]
    }
   ],
   "source": [
    "%%writefile app.py\n",
    "\n",
    "import streamlit as st\n",
    "import pandas as pd\n",
    "import matplotlib.pyplot as plt\n",
    "\n",
    "#escribir texto\n",
    "st.title('input example')\n",
    "texto = st.text_input('insert text')\n",
    "st.markdown(f'el texto que has escrito es: {texto}')\n",
    "\n",
    "#mostrar tabla de datos (con el @ haces que esto se guarde ne chache y no lo vuelve a cargar)\n",
    "@st.cache\n",
    "def get_wine():\n",
    "    df = pd.read_csv('https://raw.githubusercontent.com/KaonToPion/datasets/main/final_wine.csv')\n",
    "    return df\n",
    "\n",
    "#mostrar una selección    \n",
    "st.radio('movie',('comedy', 'terror', 'action'))\n",
    "\n",
    "df = get_wine()\n",
    "st.dataframe(df.head())\n",
    "st.table(df.head())"
   ]
  },
  {
   "cell_type": "code",
   "execution_count": null,
   "metadata": {},
   "outputs": [],
   "source": []
  }
 ],
 "metadata": {
  "kernelspec": {
   "display_name": "base",
   "language": "python",
   "name": "python3"
  },
  "language_info": {
   "codemirror_mode": {
    "name": "ipython",
    "version": 3
   },
   "file_extension": ".py",
   "mimetype": "text/x-python",
   "name": "python",
   "nbconvert_exporter": "python",
   "pygments_lexer": "ipython3",
   "version": "3.9.13 (main, Aug 25 2022, 23:51:50) [MSC v.1916 64 bit (AMD64)]"
  },
  "orig_nbformat": 4,
  "vscode": {
   "interpreter": {
    "hash": "6c0453e26b24401ab92fc4c9258d0e6c3ac378e13e0e842060a1489ed820d196"
   }
  }
 },
 "nbformat": 4,
 "nbformat_minor": 2
}
