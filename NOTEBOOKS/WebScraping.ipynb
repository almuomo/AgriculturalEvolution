{
 "cells": [
  {
   "cell_type": "markdown",
   "id": "e9012c00",
   "metadata": {},
   "source": [
    "# Descargar de los datos climáticos de Temperatura y Precipitación"
   ]
  },
  {
   "cell_type": "markdown",
   "id": "67f5d27d",
   "metadata": {},
   "source": [
    "## Indicaciones:\n",
    "\n",
    "- Insatalar libreria selenium\n",
    "- Para este caso, se debe utilizar el navegador Chrome\n",
    "- Descargar la aplicación \"Chromedriver\" --> enlace a la descarga: https://chromedriver.chromium.org/ (tener en cuenta la versión del navegador\n",
    "- Los datos a descargar se encuentran en la pagina web: https://www.ncei.noaa.gov/access/monitoring/climate-at-a-glance/divisional/time-series"
   ]
  },
  {
   "cell_type": "code",
   "execution_count": null,
   "id": "c9ee1d4b",
   "metadata": {},
   "outputs": [],
   "source": [
    "# pip install selenium"
   ]
  },
  {
   "cell_type": "code",
   "execution_count": 1,
   "id": "47ffa4a8",
   "metadata": {},
   "outputs": [],
   "source": [
    "from bs4 import BeautifulSoup\n",
    "from selenium import webdriver\n",
    "from selenium.webdriver.chrome.service import Service\n",
    "from selenium.webdriver.support.ui import Select\n",
    "\n",
    "import unittest\n",
    "from selenium.webdriver.common.keys import Keys\n",
    "import time\n",
    "\n",
    "from selenium.webdriver.support.ui import WebDriverWait\n",
    "from selenium.webdriver.common.by import By\n",
    "from selenium.webdriver.support import expected_conditions as EC"
   ]
  },
  {
   "cell_type": "markdown",
   "id": "b44aefab",
   "metadata": {},
   "source": [
    "## WebScraping datos Temperatura Media \n",
    "\n",
    "Selección de las temperaturas medias (ºF) para cada mes y para cada estado en el rango de años de 1950 hasta 2021"
   ]
  },
  {
   "cell_type": "code",
   "execution_count": 3,
   "id": "e6a6ac01",
   "metadata": {},
   "outputs": [
    {
     "ename": "TimeoutException",
     "evalue": "Message: \n",
     "output_type": "error",
     "traceback": [
      "\u001b[0;31m---------------------------------------------------------------------------\u001b[0m",
      "\u001b[0;31mTimeoutException\u001b[0m                          Traceback (most recent call last)",
      "\u001b[0;32m/tmp/ipykernel_5315/1406290332.py\u001b[0m in \u001b[0;36m<module>\u001b[0;34m\u001b[0m\n\u001b[1;32m     37\u001b[0m         \u001b[0mplot\u001b[0m \u001b[0;34m=\u001b[0m \u001b[0mdriver\u001b[0m\u001b[0;34m.\u001b[0m\u001b[0mfind_element_by_xpath\u001b[0m\u001b[0;34m(\u001b[0m\u001b[0;34m'.//*[@id=\"submit\"]'\u001b[0m\u001b[0;34m)\u001b[0m\u001b[0;34m.\u001b[0m\u001b[0mclick\u001b[0m\u001b[0;34m(\u001b[0m\u001b[0;34m)\u001b[0m\u001b[0;34m\u001b[0m\u001b[0;34m\u001b[0m\u001b[0m\n\u001b[1;32m     38\u001b[0m         \u001b[0mtime\u001b[0m\u001b[0;34m.\u001b[0m\u001b[0msleep\u001b[0m\u001b[0;34m(\u001b[0m\u001b[0;36m2\u001b[0m\u001b[0;34m)\u001b[0m\u001b[0;34m\u001b[0m\u001b[0;34m\u001b[0m\u001b[0m\n\u001b[0;32m---> 39\u001b[0;31m         \u001b[0mdowload\u001b[0m \u001b[0;34m=\u001b[0m \u001b[0mWebDriverWait\u001b[0m\u001b[0;34m(\u001b[0m\u001b[0mdriver\u001b[0m\u001b[0;34m,\u001b[0m \u001b[0;36m20\u001b[0m\u001b[0;34m)\u001b[0m\u001b[0;34m.\u001b[0m\u001b[0muntil\u001b[0m\u001b[0;34m(\u001b[0m\u001b[0mEC\u001b[0m\u001b[0;34m.\u001b[0m\u001b[0melement_to_be_clickable\u001b[0m\u001b[0;34m(\u001b[0m\u001b[0;34m(\u001b[0m\u001b[0mBy\u001b[0m\u001b[0;34m.\u001b[0m\u001b[0mCSS_SELECTOR\u001b[0m\u001b[0;34m,\u001b[0m \u001b[0;34m\"#formatted-data > a:nth-child(2)\"\u001b[0m\u001b[0;34m)\u001b[0m\u001b[0;34m)\u001b[0m\u001b[0;34m)\u001b[0m\u001b[0;34m.\u001b[0m\u001b[0mclick\u001b[0m\u001b[0;34m(\u001b[0m\u001b[0;34m)\u001b[0m\u001b[0;34m\u001b[0m\u001b[0;34m\u001b[0m\u001b[0m\n\u001b[0m\u001b[1;32m     40\u001b[0m         \u001b[0mtime\u001b[0m\u001b[0;34m.\u001b[0m\u001b[0msleep\u001b[0m\u001b[0;34m(\u001b[0m\u001b[0;36m2\u001b[0m\u001b[0;34m)\u001b[0m\u001b[0;34m\u001b[0m\u001b[0;34m\u001b[0m\u001b[0m\n",
      "\u001b[0;32m~/anaconda3/lib/python3.8/site-packages/selenium/webdriver/support/wait.py\u001b[0m in \u001b[0;36muntil\u001b[0;34m(self, method, message)\u001b[0m\n\u001b[1;32m     78\u001b[0m             \u001b[0;32mif\u001b[0m \u001b[0mtime\u001b[0m\u001b[0;34m.\u001b[0m\u001b[0mtime\u001b[0m\u001b[0;34m(\u001b[0m\u001b[0;34m)\u001b[0m \u001b[0;34m>\u001b[0m \u001b[0mend_time\u001b[0m\u001b[0;34m:\u001b[0m\u001b[0;34m\u001b[0m\u001b[0;34m\u001b[0m\u001b[0m\n\u001b[1;32m     79\u001b[0m                 \u001b[0;32mbreak\u001b[0m\u001b[0;34m\u001b[0m\u001b[0;34m\u001b[0m\u001b[0m\n\u001b[0;32m---> 80\u001b[0;31m         \u001b[0;32mraise\u001b[0m \u001b[0mTimeoutException\u001b[0m\u001b[0;34m(\u001b[0m\u001b[0mmessage\u001b[0m\u001b[0;34m,\u001b[0m \u001b[0mscreen\u001b[0m\u001b[0;34m,\u001b[0m \u001b[0mstacktrace\u001b[0m\u001b[0;34m)\u001b[0m\u001b[0;34m\u001b[0m\u001b[0;34m\u001b[0m\u001b[0m\n\u001b[0m\u001b[1;32m     81\u001b[0m \u001b[0;34m\u001b[0m\u001b[0m\n\u001b[1;32m     82\u001b[0m     \u001b[0;32mdef\u001b[0m \u001b[0muntil_not\u001b[0m\u001b[0;34m(\u001b[0m\u001b[0mself\u001b[0m\u001b[0;34m,\u001b[0m \u001b[0mmethod\u001b[0m\u001b[0;34m,\u001b[0m \u001b[0mmessage\u001b[0m\u001b[0;34m=\u001b[0m\u001b[0;34m''\u001b[0m\u001b[0;34m)\u001b[0m\u001b[0;34m:\u001b[0m\u001b[0;34m\u001b[0m\u001b[0;34m\u001b[0m\u001b[0m\n",
      "\u001b[0;31mTimeoutException\u001b[0m: Message: \n"
     ]
    }
   ],
   "source": [
    "#Enlace al la pagina web\n",
    "website = 'https://www.ncei.noaa.gov/access/monitoring/climate-at-a-glance'\n",
    "path = ('./chromedriver')\n",
    "\n",
    "driver = webdriver.Chrome(path)\n",
    "driver.get(website) \n",
    "\n",
    "#selección de los apartados a donde a donde se encuentra la información que busco\n",
    "state_click = driver.find_element_by_xpath('.//*[@id=\"show-statewide\"]/a').click()\n",
    "time_series_click = driver.find_element_by_xpath('.//*[@id=\"time-series\"]/div[3]/button').click()\n",
    "\n",
    "#selección de los años (para todos los archivos el mismo rango de 1950 - 2021)\n",
    "star_year_dropdown = Select(driver.find_element_by_id('begyear'))\n",
    "star_year_dropdown.select_by_visible_text('1950')\n",
    "end_year_dropdown = Select(driver.find_element_by_id('endyear'))\n",
    "end_year_dropdown.select_by_visible_text('2021')\n",
    "\n",
    "#selección del parametro a descargar:  Temperatura media\n",
    "parameter_dropdown = Select(driver.find_element_by_id(\"parameter\"))\n",
    "parameter_dropdown.select_by_visible_text('Average Temperature')\n",
    "\n",
    "#Creación de un for apra que recorra todos los estados y todos los meses:\n",
    "\n",
    "#selección del estado\n",
    "select_state = driver.find_element_by_xpath('.//*[@id=\"state\"]')\n",
    "opcion_state = select_state.find_elements_by_tag_name('option')\n",
    "\n",
    "#selección del mes\n",
    "select_month = driver.find_element_by_xpath('//*[@id=\"month\"]')\n",
    "opcion_month = select_month.find_elements_by_tag_name('option')\n",
    "\n",
    "for option in opcion_month:\n",
    "    option.click()\n",
    "\n",
    "    for option in opcion_state:\n",
    "        option.click()\n",
    "        plot = driver.find_element_by_xpath('.//*[@id=\"submit\"]').click()\n",
    "        time.sleep(2)\n",
    "        dowload = WebDriverWait(driver, 20).until(EC.element_to_be_clickable((By.CSS_SELECTOR, \"#formatted-data > a:nth-child(2)\"))).click()\n",
    "        time.sleep(2)"
   ]
  },
  {
   "cell_type": "markdown",
   "id": "57e1681c",
   "metadata": {},
   "source": [
    "## WebScraping datos Precipitaciones\n",
    "\n",
    "Selección de las precipitacones (mm) para cada mes y para cada estado en el rango de años de 1950 hasta 2021"
   ]
  },
  {
   "cell_type": "code",
   "execution_count": null,
   "id": "da2efaef",
   "metadata": {},
   "outputs": [],
   "source": [
    "#Enlace al la pagina web\n",
    "website = 'https://www.ncei.noaa.gov/access/monitoring/climate-at-a-glance'\n",
    "path = ('./chromedriver')\n",
    "\n",
    "driver = webdriver.Chrome(path)\n",
    "driver.get(website) \n",
    "\n",
    "#selección de los apartados a donde a donde se encuentra la información que busco\n",
    "state_click = driver.find_element_by_xpath('.//*[@id=\"sectionMenu\"]/li[4]/a').click()\n",
    "time_series_click = driver.find_element_by_xpath('.//*[@id=\"subsectionMenu\"]/li[2]/a').click()\n",
    "\n",
    "#selección de los años (para todos los archivos el mismo rango de 1950 - 2021)\n",
    "star_year_dropdown = Select(driver.find_element_by_id('begyear'))\n",
    "star_year_dropdown.select_by_visible_text('1950')\n",
    "end_year_dropdown = Select(driver.find_element_by_id('endyear'))\n",
    "end_year_dropdown.select_by_visible_text('2021')\n",
    "\n",
    "#selección del parametro a descargar:  Precipitación\n",
    "parameter_dropdown = Select(driver.find_element_by_id(\"parameter\"))\n",
    "parameter_dropdown.select_by_visible_text('Precipitation')\n",
    "\n",
    "#Creación de un for apra que recorra todos los estados y todos los meses:\n",
    "\n",
    "#selección del estado\n",
    "select_state = driver.find_element_by_xpath('.//*[@id=\"state\"]')\n",
    "opcion_state = select_state.find_elements_by_tag_name('option')\n",
    "\n",
    "#selección del mes\n",
    "select_month = driver.find_element_by_xpath('//*[@id=\"month\"]')\n",
    "opcion_month = select_month.find_elements_by_tag_name('option')\n",
    "\n",
    "for option in opcion_month:\n",
    "    option.click()\n",
    "\n",
    "    for option in opcion_state:\n",
    "        option.click()\n",
    "        plot = driver.find_element_by_xpath('.//*[@id=\"submit\"]').click()\n",
    "        time.sleep(3)\n",
    "        dowload = WebDriverWait(driver, 20).until(EC.element_to_be_clickable((By.CSS_SELECTOR, \"#formatted-data > a:nth-child(2)\"))).click()\n",
    "        time.sleep(4)"
   ]
  },
  {
   "cell_type": "code",
   "execution_count": null,
   "id": "36b8a886",
   "metadata": {},
   "outputs": [],
   "source": []
  }
 ],
 "metadata": {
  "kernelspec": {
   "display_name": "Python 3 (ipykernel)",
   "language": "python",
   "name": "python3"
  },
  "language_info": {
   "codemirror_mode": {
    "name": "ipython",
    "version": 3
   },
   "file_extension": ".py",
   "mimetype": "text/x-python",
   "name": "python",
   "nbconvert_exporter": "python",
   "pygments_lexer": "ipython3",
   "version": "3.9.13 (main, Aug 25 2022, 23:51:50) [MSC v.1916 64 bit (AMD64)]"
  },
  "vscode": {
   "interpreter": {
    "hash": "6c0453e26b24401ab92fc4c9258d0e6c3ac378e13e0e842060a1489ed820d196"
   }
  }
 },
 "nbformat": 4,
 "nbformat_minor": 5
}
