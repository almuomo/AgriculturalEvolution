{
 "cells": [
  {
   "attachments": {},
   "cell_type": "markdown",
   "metadata": {},
   "source": [
    "# Front End con Streamlit"
   ]
  },
  {
   "attachments": {},
   "cell_type": "markdown",
   "metadata": {},
   "source": [
    "Para utilizar la libreria Streamlit correctamente se crea un entorno específico:\n",
    "\n",
    "En la consola: \n",
    "- conda create --name streamlit_env --> crear la carpeta envionmetn\n",
    "- conda activate streamlit_env --> activar el entorno de trabajo\n",
    "- conda install jupyuter\n",
    "- conda install seaborn\n",
    "- pip install streamlit\n",
    "- pip install writefile\n",
    "- pip install \n",
    "- pip install statsmodels\n",
    "\n",
    "para ejecutar la app: \n",
    "\n",
    "En la consola:\n",
    "- debemos de estar en la carpeta streamlit (~/Deskpot/AgriculturalEvolution/NOTEBOOKS)\n",
    "- streamlit run app.py\n",
    "\n",
    "\n",
    "######## Esto se pude poner en una web publica"
   ]
  },
  {
   "cell_type": "code",
   "execution_count": 3,
   "metadata": {},
   "outputs": [
    {
     "name": "stdout",
     "output_type": "stream",
     "text": [
      "Overwriting app.py\n"
     ]
    }
   ],
   "source": [
    "%%writefile app.py\n",
    "import streamlit as st\n",
    "import numpy as np\n",
    "import pandas as pd\n",
    "\n",
    "import matplotlib as mpl\n",
    "import plotly.graph_objects as go\n",
    "import matplotlib.pyplot as plt\n",
    "import seaborn as sns\n",
    "import plotly.express as px\n",
    "import plotly.figure_factory as ff\n",
    "from plotly.subplots import make_subplots\n",
    "from statsmodels.graphics.factorplots import interaction_plot\n",
    "from plotly.subplots import make_subplots\n",
    "\n",
    "\n",
    "st.title(\"EVOLUCIÓN AGRÍCOLA EN ESTADOS UNIDOS\")\n",
    "\n",
    "st.image('../NOTEBOOKS/images/agricultura-de-precisin.jpg', caption='Fuente: Acre Group')\n",
    "#st.subheader('How to run streamlit from windows')\n",
    "st.write('El cambio climático afecta directamente a la agricultura; estas alteraciones están principalmente relacionadas con el incremento de temperaturas que tienden a prolongar los periodos de sequía y con las precipitaciones que cada vez son menos frecuentes y más concentradas en el tiempo. Ambos factores pueden generar problemas como: inundaciones, cambios anormales en las temperaturas en distintas épocas del año, sequias prolongadas, escasez de agua, etc. Los efectos, entre otros, que estas problemáticas pueden tener sobre los cultivos son: estrés hídrico, proliferación de plagas, floraciones en épocas del año que no corresponden, incendios, inundaciones o dificultad en el desarrollo vegetativo.')\n",
    "st.write('Estos factores han hecho que la agricultura trate de adaptarse a los cambios producidos por estos problemas tendiendo hacia un cambio en los cultivos, ya sea modificando el tipo de cultivo de la región o cambiando a nuevas variedades de cultivos más resistentes.')\n",
    "st.write('Este trabajo tiene como objetivo el estudio de los cambios y modificaciones que se han ido produciendo en los cultivos de la región de Estados Unidos.')\n",
    "st.write('Autor: Alejandro Muñoz Molina')\n",
    "\n",
    "st.sidebar.image('../NOTEBOOKS/images/agricultura-de-precisin.jpg', width=300)\n",
    "\n",
    "##############\n",
    "#indice lateral\n",
    "sidebar = st.sidebar\n",
    "\n",
    "st.title(\"Representación gráfica de las variables de estudio\")\n",
    "\n",
    "#Carga datos\n",
    "df =  pd.read_csv('../DATOS/archivos creados analisis/agrupation.csv')\n",
    "df.set_index('date', inplace=True)\n",
    "\n",
    "#Mostrar tabla de datos:\n",
    "df_display = sidebar.checkbox(\"Mostrat tabla Variables\", value=True)\n",
    "if df_display:\n",
    "    st.write(df)\n",
    "\n",
    "#Creación rango años\n",
    "\n",
    "slider = sidebar.slider('Años a representar', min_value= 1950, max_value=2021, value = [1950, 2021], step=1)\n",
    "\n",
    "subfig = make_subplots(specs=[[{\"secondary_y\": True}]])\n",
    "fig1 = px.line(x = slider, y = df['Temperature'], color_discrete_sequence=px.colors.qualitative.G10)\n",
    "fig2 = px.line(x = slider, y = df['Precipitation'], color_discrete_sequence=px.colors.qualitative.Dark2)\n",
    "fig2.update_traces(yaxis='y2')\n",
    "subfig.add_traces(fig1.data + fig2.data)\n",
    "subfig.layout.yaxis.title=\"Temperatura\"\n",
    "subfig.layout.yaxis2.title=\"Precipitación\"\n",
    "\n",
    "#st.plotly_chart(subfig, theme=None, use_container_width=True)\n",
    "st.write(subfig, slider)\n"
   ]
  },
  {
   "cell_type": "code",
   "execution_count": null,
   "metadata": {},
   "outputs": [],
   "source": [
    "def plot(df, slider):\n",
    "    subfig = make_subplots(specs=[[{\"secondary_y\": True}]])\n",
    "    fig1 = px.line(x = slider, y = df['Temperature'], color_discrete_sequence=px.colors.qualitative.G10)\n",
    "    fig2 = px.line(x = slider, y = df['Precipitation'], color_discrete_sequence=px.colors.qualitative.Dark2)\n",
    "    fig2.update_traces(yaxis='y2')\n",
    "    subfig.add_traces(fig1.data + fig2.data)\n",
    "    subfig.layout.yaxis.title=\"Temperatura\"\n",
    "    subfig.layout.yaxis2.title=\"Precipitación\"\n",
    "    return subfig\n",
    "\n",
    "st.write(plot(df, slider = slider))"
   ]
  },
  {
   "cell_type": "code",
   "execution_count": 10,
   "metadata": {},
   "outputs": [],
   "source": [
    "import streamlit as st\n",
    "import numpy as np\n",
    "import pandas as pd\n",
    "\n",
    "import matplotlib as mpl\n",
    "import plotly.graph_objects as go\n",
    "import matplotlib.pyplot as plt\n",
    "import seaborn as sns\n",
    "import plotly.express as px\n",
    "import plotly.figure_factory as ff\n",
    "from plotly.subplots import make_subplots\n",
    "from statsmodels.graphics.factorplots import interaction_plot\n",
    "from plotly.subplots import make_subplots"
   ]
  },
  {
   "cell_type": "code",
   "execution_count": 11,
   "metadata": {},
   "outputs": [],
   "source": [
    "#Carga datos\n",
    "df =  pd.read_csv('../DATOS/archivos creados analisis/agrupation.csv')\n",
    "df.set_index('date', inplace=True)"
   ]
  },
  {
   "cell_type": "code",
   "execution_count": 46,
   "metadata": {},
   "outputs": [
    {
     "data": {
      "text/plain": [
       "[1950,\n",
       " 1951,\n",
       " 1952,\n",
       " 1953,\n",
       " 1954,\n",
       " 1955,\n",
       " 1956,\n",
       " 1957,\n",
       " 1958,\n",
       " 1959,\n",
       " 1960,\n",
       " 1961,\n",
       " 1962,\n",
       " 1963,\n",
       " 1964,\n",
       " 1965,\n",
       " 1966,\n",
       " 1967,\n",
       " 1968,\n",
       " 1969,\n",
       " 1970,\n",
       " 1971,\n",
       " 1972,\n",
       " 1973,\n",
       " 1974,\n",
       " 1975,\n",
       " 1976,\n",
       " 1977,\n",
       " 1978,\n",
       " 1979,\n",
       " 1980,\n",
       " 1981,\n",
       " 1982,\n",
       " 1983,\n",
       " 1984,\n",
       " 1985,\n",
       " 1986,\n",
       " 1987,\n",
       " 1988,\n",
       " 1989,\n",
       " 1990,\n",
       " 1991,\n",
       " 1992,\n",
       " 1993,\n",
       " 1994,\n",
       " 1995,\n",
       " 1996,\n",
       " 1997,\n",
       " 1998,\n",
       " 1999,\n",
       " 2000,\n",
       " 2001,\n",
       " 2002,\n",
       " 2003,\n",
       " 2004,\n",
       " 2005,\n",
       " 2006,\n",
       " 2007,\n",
       " 2008,\n",
       " 2009,\n",
       " 2010,\n",
       " 2011,\n",
       " 2012,\n",
       " 2013,\n",
       " 2014,\n",
       " 2015,\n",
       " 2016,\n",
       " 2017,\n",
       " 2018,\n",
       " 2019,\n",
       " 2020,\n",
       " 2021]"
      ]
     },
     "execution_count": 46,
     "metadata": {},
     "output_type": "execute_result"
    }
   ],
   "source": [
    "list(range(1950, 2022))"
   ]
  },
  {
   "cell_type": "code",
   "execution_count": 28,
   "metadata": {},
   "outputs": [],
   "source": [
    "def plot(df):\n",
    "    subfig = make_subplots(specs=[[{\"secondary_y\": True}]])\n",
    "    fig1 = px.line(x = df.index, y = df['Temperature'], color_discrete_sequence=px.colors.qualitative.G10)\n",
    "    fig2 = px.line(x = df.index, y = df['Precipitation'], color_discrete_sequence=px.colors.qualitative.Dark2)\n",
    "    fig2.update_traces(yaxis='y2')\n",
    "    subfig.add_traces(fig1.data + fig2.data)\n",
    "    subfig.layout.yaxis.title=\"Temperatura\"\n",
    "    subfig.layout.yaxis2.title=\"Precipitación\"\n",
    "    return subfig\n",
    "    "
   ]
  },
  {
   "cell_type": "code",
   "execution_count": 29,
   "metadata": {},
   "outputs": [
    {
     "data": {
      "application/vnd.plotly.v1+json": {
       "config": {
        "plotlyServerURL": "https://plot.ly"
       },
       "data": [
        {
         "hovertemplate": "x=%{x}<br>y=%{y}<extra></extra>",
         "legendgroup": "",
         "line": {
          "color": "#3366CC",
          "dash": "solid"
         },
         "marker": {
          "symbol": "circle"
         },
         "mode": "lines",
         "name": "",
         "orientation": "v",
         "showlegend": false,
         "type": "scatter",
         "x": [
          1950,
          1951,
          1952,
          1953,
          1954,
          1955,
          1956,
          1957,
          1958,
          1959,
          1960,
          1961,
          1962,
          1963,
          1964,
          1965,
          1966,
          1967,
          1968,
          1969,
          1970,
          1971,
          1972,
          1973,
          1974,
          1975,
          1976,
          1977,
          1978,
          1979,
          1980,
          1981,
          1982,
          1983,
          1984,
          1985,
          1986,
          1987,
          1988,
          1989,
          1990,
          1991,
          1992,
          1993,
          1994,
          1995,
          1996,
          1997,
          1998,
          1999,
          2000,
          2001,
          2002,
          2003,
          2004,
          2005,
          2006,
          2007,
          2008,
          2009,
          2010,
          2011,
          2012,
          2013,
          2014,
          2015,
          2016,
          2017,
          2018,
          2019,
          2020,
          2021
         ],
         "xaxis": "x",
         "y": [
          10.83652216289516,
          10.883205619412516,
          11.614097275930224,
          12.196281081551035,
          12.068790849673205,
          11.369501627518254,
          11.5924280322977,
          11.520256004222752,
          11.117044550517106,
          11.539572310405644,
          10.986224028906957,
          11.291346593507088,
          11.266607516607516,
          11.38523991972268,
          11.319263334238885,
          11.247873799725651,
          10.975591309130913,
          11.130322342292416,
          10.989849537037037,
          10.966589700531769,
          11.156460437710438,
          11.291796912001518,
          10.978169515669515,
          11.787418735224586,
          11.5868700265252,
          11.365200412614206,
          11.001197107397635,
          11.624769730463449,
          10.976743626743628,
          10.916008771929825,
          11.62870613395548,
          11.938663663663664,
          11.27193114523738,
          11.475920893719806,
          11.602669585346217,
          11.29252117130905,
          12.231354642313546,
          12.273349436392914,
          11.7465999197029,
          11.33886630532972,
          12.472222222222223,
          12.24038165589412,
          11.672055041152264,
          11.000583460172502,
          11.744888381532215,
          11.637349918599918,
          11.115151058917997,
          11.255673565722583,
          12.866124623794608,
          12.368559435048796,
          11.931481481481482,
          12.302466713181,
          12.07626007120105,
          11.79160125588697,
          11.88940329218107,
          12.16678614097969,
          12.56371714456392,
          12.21446059280096,
          11.597935452646595,
          11.515975482524778,
          11.920488573680064,
          12.021403840100724,
          13.00514184397163,
          11.574152876280536,
          11.467236955748616,
          12.53360672650366,
          12.976991254328814,
          12.690529900920028,
          12.214934142952089,
          11.613540783149562,
          12.44222665779552,
          12.570299651338727
         ],
         "yaxis": "y"
        },
        {
         "hovertemplate": "x=%{x}<br>y=%{y}<extra></extra>",
         "legendgroup": "",
         "line": {
          "color": "rgb(27,158,119)",
          "dash": "solid"
         },
         "marker": {
          "symbol": "circle"
         },
         "mode": "lines",
         "name": "",
         "orientation": "v",
         "showlegend": false,
         "type": "scatter",
         "x": [
          1950,
          1951,
          1952,
          1953,
          1954,
          1955,
          1956,
          1957,
          1958,
          1959,
          1960,
          1961,
          1962,
          1963,
          1964,
          1965,
          1966,
          1967,
          1968,
          1969,
          1970,
          1971,
          1972,
          1973,
          1974,
          1975,
          1976,
          1977,
          1978,
          1979,
          1980,
          1981,
          1982,
          1983,
          1984,
          1985,
          1986,
          1987,
          1988,
          1989,
          1990,
          1991,
          1992,
          1993,
          1994,
          1995,
          1996,
          1997,
          1998,
          1999,
          2000,
          2001,
          2002,
          2003,
          2004,
          2005,
          2006,
          2007,
          2008,
          2009,
          2010,
          2011,
          2012,
          2013,
          2014,
          2015,
          2016,
          2017,
          2018,
          2019,
          2020,
          2021
         ],
         "xaxis": "x",
         "y": [
          77.1681933638444,
          77.92817318007663,
          67.3662807424594,
          71.33186541471048,
          65.86658274509804,
          69.40122644497228,
          66.66496840442338,
          81.52364291369754,
          75.23734606205251,
          76.93710396825396,
          70.9094174796748,
          79.23958559670781,
          71.29755036855036,
          62.49797208538588,
          75.38707579462103,
          70.37566502057612,
          68.47311881188119,
          73.43883208645053,
          73.21237791666667,
          75.12460537363559,
          73.22047095959596,
          76.46157885763,
          81.97698034188033,
          87.2310984042553,
          77.14334836427939,
          85.20111096374889,
          66.60932189973614,
          77.07293106457243,
          73.35371558441558,
          83.4718640350877,
          68.04244444444444,
          70.13248918918919,
          80.93456458897923,
          85.10903849637681,
          76.99978940217392,
          73.30885491276399,
          73.96764155251141,
          69.97935824275362,
          63.85719467028003,
          74.81280894308942,
          78.16725837988827,
          77.09357340720221,
          75.28565879629629,
          77.58273424657534,
          75.4417694063927,
          77.47226785714285,
          82.30219512195121,
          74.91085661764706,
          81.71305666113875,
          71.17064757228587,
          70.2953204134367,
          69.40646363160648,
          72.09948482293423,
          79.840799581371,
          80.06476455026456,
          75.5707696236559,
          74.99773333333333,
          68.73885419596812,
          77.36774782209996,
          79.62270962441315,
          75.93549172576832,
          78.4724185552408,
          69.65601725768322,
          76.6538073286052,
          76.48030589849108,
          80.70882428040854,
          75.18151769677759,
          78.68644294055201,
          85.7071481783578,
          80.92953816793893,
          71.63902694610778,
          71.91636293664891
         ],
         "yaxis": "y2"
        }
       ],
       "layout": {
        "template": {
         "data": {
          "candlestick": [
           {
            "decreasing": {
             "line": {
              "color": "#000033"
             }
            },
            "increasing": {
             "line": {
              "color": "#000032"
             }
            },
            "type": "candlestick"
           }
          ],
          "contour": [
           {
            "colorscale": [
             [
              0,
              "#000011"
             ],
             [
              0.1111111111111111,
              "#000012"
             ],
             [
              0.2222222222222222,
              "#000013"
             ],
             [
              0.3333333333333333,
              "#000014"
             ],
             [
              0.4444444444444444,
              "#000015"
             ],
             [
              0.5555555555555556,
              "#000016"
             ],
             [
              0.6666666666666666,
              "#000017"
             ],
             [
              0.7777777777777778,
              "#000018"
             ],
             [
              0.8888888888888888,
              "#000019"
             ],
             [
              1,
              "#000020"
             ]
            ],
            "type": "contour"
           }
          ],
          "contourcarpet": [
           {
            "colorscale": [
             [
              0,
              "#000011"
             ],
             [
              0.1111111111111111,
              "#000012"
             ],
             [
              0.2222222222222222,
              "#000013"
             ],
             [
              0.3333333333333333,
              "#000014"
             ],
             [
              0.4444444444444444,
              "#000015"
             ],
             [
              0.5555555555555556,
              "#000016"
             ],
             [
              0.6666666666666666,
              "#000017"
             ],
             [
              0.7777777777777778,
              "#000018"
             ],
             [
              0.8888888888888888,
              "#000019"
             ],
             [
              1,
              "#000020"
             ]
            ],
            "type": "contourcarpet"
           }
          ],
          "heatmap": [
           {
            "colorscale": [
             [
              0,
              "#000011"
             ],
             [
              0.1111111111111111,
              "#000012"
             ],
             [
              0.2222222222222222,
              "#000013"
             ],
             [
              0.3333333333333333,
              "#000014"
             ],
             [
              0.4444444444444444,
              "#000015"
             ],
             [
              0.5555555555555556,
              "#000016"
             ],
             [
              0.6666666666666666,
              "#000017"
             ],
             [
              0.7777777777777778,
              "#000018"
             ],
             [
              0.8888888888888888,
              "#000019"
             ],
             [
              1,
              "#000020"
             ]
            ],
            "type": "heatmap"
           }
          ],
          "histogram2d": [
           {
            "colorscale": [
             [
              0,
              "#000011"
             ],
             [
              0.1111111111111111,
              "#000012"
             ],
             [
              0.2222222222222222,
              "#000013"
             ],
             [
              0.3333333333333333,
              "#000014"
             ],
             [
              0.4444444444444444,
              "#000015"
             ],
             [
              0.5555555555555556,
              "#000016"
             ],
             [
              0.6666666666666666,
              "#000017"
             ],
             [
              0.7777777777777778,
              "#000018"
             ],
             [
              0.8888888888888888,
              "#000019"
             ],
             [
              1,
              "#000020"
             ]
            ],
            "type": "histogram2d"
           }
          ],
          "icicle": [
           {
            "textfont": {
             "color": "white"
            },
            "type": "icicle"
           }
          ],
          "sankey": [
           {
            "textfont": {
             "color": "#000036"
            },
            "type": "sankey"
           }
          ],
          "scatter": [
           {
            "marker": {
             "line": {
              "width": 0
             }
            },
            "type": "scatter"
           }
          ],
          "table": [
           {
            "cells": {
             "fill": {
              "color": "#000038"
             },
             "font": {
              "color": "#000037"
             },
             "line": {
              "color": "#000039"
             }
            },
            "header": {
             "fill": {
              "color": "#000040"
             },
             "font": {
              "color": "#000036"
             },
             "line": {
              "color": "#000039"
             }
            },
            "type": "table"
           }
          ],
          "waterfall": [
           {
            "connector": {
             "line": {
              "color": "#000036",
              "width": 2
             }
            },
            "decreasing": {
             "marker": {
              "color": "#000033"
             }
            },
            "increasing": {
             "marker": {
              "color": "#000032"
             }
            },
            "totals": {
             "marker": {
              "color": "#000034"
             }
            },
            "type": "waterfall"
           }
          ]
         },
         "layout": {
          "coloraxis": {
           "colorscale": [
            [
             0,
             "#000011"
            ],
            [
             0.1111111111111111,
             "#000012"
            ],
            [
             0.2222222222222222,
             "#000013"
            ],
            [
             0.3333333333333333,
             "#000014"
            ],
            [
             0.4444444444444444,
             "#000015"
            ],
            [
             0.5555555555555556,
             "#000016"
            ],
            [
             0.6666666666666666,
             "#000017"
            ],
            [
             0.7777777777777778,
             "#000018"
            ],
            [
             0.8888888888888888,
             "#000019"
            ],
            [
             1,
             "#000020"
            ]
           ]
          },
          "colorscale": {
           "diverging": [
            [
             0,
             "#000021"
            ],
            [
             0.1,
             "#000022"
            ],
            [
             0.2,
             "#000023"
            ],
            [
             0.3,
             "#000024"
            ],
            [
             0.4,
             "#000025"
            ],
            [
             0.5,
             "#000026"
            ],
            [
             0.6,
             "#000027"
            ],
            [
             0.7,
             "#000028"
            ],
            [
             0.8,
             "#000029"
            ],
            [
             0.9,
             "#000030"
            ],
            [
             1,
             "#000031"
            ]
           ],
           "sequential": [
            [
             0,
             "#000011"
            ],
            [
             0.1111111111111111,
             "#000012"
            ],
            [
             0.2222222222222222,
             "#000013"
            ],
            [
             0.3333333333333333,
             "#000014"
            ],
            [
             0.4444444444444444,
             "#000015"
            ],
            [
             0.5555555555555556,
             "#000016"
            ],
            [
             0.6666666666666666,
             "#000017"
            ],
            [
             0.7777777777777778,
             "#000018"
            ],
            [
             0.8888888888888888,
             "#000019"
            ],
            [
             1,
             "#000020"
            ]
           ],
           "sequentialminus": [
            [
             0,
             "#000011"
            ],
            [
             0.1111111111111111,
             "#000012"
            ],
            [
             0.2222222222222222,
             "#000013"
            ],
            [
             0.3333333333333333,
             "#000014"
            ],
            [
             0.4444444444444444,
             "#000015"
            ],
            [
             0.5555555555555556,
             "#000016"
            ],
            [
             0.6666666666666666,
             "#000017"
            ],
            [
             0.7777777777777778,
             "#000018"
            ],
            [
             0.8888888888888888,
             "#000019"
            ],
            [
             1,
             "#000020"
            ]
           ]
          },
          "colorway": [
           "#000001",
           "#000002",
           "#000003",
           "#000004",
           "#000005",
           "#000006",
           "#000007",
           "#000008",
           "#000009",
           "#000010"
          ]
         }
        },
        "xaxis": {
         "anchor": "y",
         "domain": [
          0,
          0.94
         ]
        },
        "yaxis": {
         "anchor": "x",
         "domain": [
          0,
          1
         ],
         "title": {
          "text": "Temperatura"
         }
        },
        "yaxis2": {
         "anchor": "x",
         "overlaying": "y",
         "side": "right",
         "title": {
          "text": "Precipitación"
         }
        }
       }
      }
     },
     "metadata": {},
     "output_type": "display_data"
    }
   ],
   "source": [
    "plot(df)"
   ]
  },
  {
   "cell_type": "code",
   "execution_count": null,
   "metadata": {},
   "outputs": [],
   "source": []
  }
 ],
 "metadata": {
  "kernelspec": {
   "display_name": "streamlit_env",
   "language": "python",
   "name": "python3"
  },
  "language_info": {
   "codemirror_mode": {
    "name": "ipython",
    "version": 3
   },
   "file_extension": ".py",
   "mimetype": "text/x-python",
   "name": "python",
   "nbconvert_exporter": "python",
   "pygments_lexer": "ipython3",
   "version": "3.10.8 | packaged by conda-forge | (main, Nov 24 2022, 14:07:00) [MSC v.1916 64 bit (AMD64)]"
  },
  "orig_nbformat": 4,
  "vscode": {
   "interpreter": {
    "hash": "d0f3f63fdcba010c6a0bf6b66c71593fb9ccb78abcceef448e4433c42da3854d"
   }
  }
 },
 "nbformat": 4,
 "nbformat_minor": 2
}
