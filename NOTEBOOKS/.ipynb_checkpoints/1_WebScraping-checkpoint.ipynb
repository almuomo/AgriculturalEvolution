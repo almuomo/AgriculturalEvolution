{
 "cells": [
  {
   "cell_type": "markdown",
   "id": "e9012c00",
   "metadata": {},
   "source": [
    "<div id='id0' />\n",
    "\n",
    "# Descarga de los datos climáticos de Temperatura y Precipitación"
   ]
  },
  {
   "cell_type": "markdown",
   "id": "13470c97",
   "metadata": {},
   "source": [
    "El objetivo de este notebook es descargar de las páginas web de origen los datos necesarios para su posterior transformación y análisis"
   ]
  },
  {
   "cell_type": "markdown",
   "id": "67f5d27d",
   "metadata": {},
   "source": [
    "## Indicaciones:\n",
    "\n",
    "1. Instalar librería selenium\n",
    "2. Descargar la aplicación \"Chromedriver\" (enlace a la descarga: https://chromedriver.chromium.org/ **tener en cuenta la versión del navegador**)\n",
    "\n",
    "Notas:\n",
    "- Para este caso, se debe utilizar el navegador Chrome \n",
    "- Los datos que se van a descargar por webscraping se encuentran en la página web: https://www.ncei.noaa.gov/access/monitoring/climate-at-a-glance/divisional/time-series"
   ]
  },
  {
   "cell_type": "markdown",
   "id": "aad190a3",
   "metadata": {},
   "source": [
    "1. [Web Scraping](#id1)\n",
    "    - [Temperatura Media](#id2)\n",
    "    - [Precipitaciones](#id5)"
   ]
  },
  {
   "cell_type": "code",
   "execution_count": 1,
   "id": "47ffa4a8",
   "metadata": {},
   "outputs": [],
   "source": [
    "from bs4 import BeautifulSoup\n",
    "from selenium import webdriver\n",
    "from selenium.webdriver.chrome.service import Service\n",
    "from selenium.webdriver.support.ui import Select\n",
    "from selenium.webdriver.chrome import options\n",
    "\n",
    "import unittest\n",
    "import time\n",
    "\n",
    "from selenium.webdriver.support.ui import WebDriverWait\n",
    "from selenium.webdriver.common.by import By\n",
    "from selenium.webdriver.support import expected_conditions as EC"
   ]
  },
  {
   "cell_type": "markdown",
   "id": "876942ff",
   "metadata": {},
   "source": [
    "[up](#id0)"
   ]
  },
  {
   "cell_type": "markdown",
   "id": "7db5d4db",
   "metadata": {},
   "source": [
    "<div id='id1' />\n",
    "\n",
    "# Web Scraping"
   ]
  },
  {
   "cell_type": "markdown",
   "id": "b44aefab",
   "metadata": {},
   "source": [
    "<div id='id2' />\n",
    "\n",
    "## Temperatura Media \n",
    "\n",
    "Selección de las temperaturas medias (ºF) para cada mes y para cada estado en el rango de años de 1950 hasta 2021."
   ]
  },
  {
   "cell_type": "code",
   "execution_count": 2,
   "id": "e6a6ac01",
   "metadata": {},
   "outputs": [
    {
     "name": "stderr",
     "output_type": "stream",
     "text": [
      "C:\\Users\\aleja\\AppData\\Local\\Temp\\ipykernel_5748\\2662974122.py:6: DeprecationWarning: executable_path has been deprecated, please pass in a Service object\n",
      "  driver = webdriver.Chrome(path)\n"
     ]
    },
    {
     "ename": "NoSuchWindowException",
     "evalue": "Message: no such window: target window already closed\nfrom unknown error: web view not found\n  (Session info: chrome=109.0.5414.120)\nStacktrace:\nBacktrace:\n\t(No symbol) [0x00D26643]\n\t(No symbol) [0x00CBBE21]\n\t(No symbol) [0x00BBDA9D]\n\t(No symbol) [0x00B9EF6A]\n\t(No symbol) [0x00C13AAB]\n\t(No symbol) [0x00C261B6]\n\t(No symbol) [0x00C0FB76]\n\t(No symbol) [0x00BE49C1]\n\t(No symbol) [0x00BE5E5D]\n\tGetHandleVerifier [0x00F9A142+2497106]\n\tGetHandleVerifier [0x00FC85D3+2686691]\n\tGetHandleVerifier [0x00FCBB9C+2700460]\n\tGetHandleVerifier [0x00DD3B10+635936]\n\t(No symbol) [0x00CC4A1F]\n\t(No symbol) [0x00CCA418]\n\t(No symbol) [0x00CCA505]\n\t(No symbol) [0x00CD508B]\n\tBaseThreadInitThunk [0x76037D69+25]\n\tRtlInitializeExceptionChain [0x7717BB9B+107]\n\tRtlClearBits [0x7717BB1F+191]\n",
     "output_type": "error",
     "traceback": [
      "\u001b[1;31m---------------------------------------------------------------------------\u001b[0m",
      "\u001b[1;31mNoSuchWindowException\u001b[0m                     Traceback (most recent call last)",
      "\u001b[1;32m~\\AppData\\Local\\Temp\\ipykernel_5748\\2662974122.py\u001b[0m in \u001b[0;36m<module>\u001b[1;34m\u001b[0m\n\u001b[0;32m     41\u001b[0m         \u001b[0mtime\u001b[0m\u001b[1;33m.\u001b[0m\u001b[0msleep\u001b[0m\u001b[1;33m(\u001b[0m\u001b[1;36m3\u001b[0m\u001b[1;33m)\u001b[0m\u001b[1;33m\u001b[0m\u001b[1;33m\u001b[0m\u001b[0m\n\u001b[0;32m     42\u001b[0m \u001b[1;33m\u001b[0m\u001b[0m\n\u001b[1;32m---> 43\u001b[1;33m         \u001b[0mdowload\u001b[0m \u001b[1;33m=\u001b[0m \u001b[0mdriver\u001b[0m\u001b[1;33m.\u001b[0m\u001b[0mexecute_script\u001b[0m\u001b[1;33m(\u001b[0m\u001b[1;34m\"arguments[0].click();\"\u001b[0m\u001b[1;33m,\u001b[0m \u001b[0mdriver\u001b[0m\u001b[1;33m.\u001b[0m\u001b[0mfind_element\u001b[0m\u001b[1;33m(\u001b[0m\u001b[0mBy\u001b[0m\u001b[1;33m.\u001b[0m\u001b[0mXPATH\u001b[0m\u001b[1;33m,\u001b[0m \u001b[1;34m'//*[@id=\"csv-download\"]'\u001b[0m\u001b[1;33m)\u001b[0m\u001b[1;33m)\u001b[0m\u001b[1;33m\u001b[0m\u001b[1;33m\u001b[0m\u001b[0m\n\u001b[0m\u001b[0;32m     44\u001b[0m         \u001b[0mtime\u001b[0m\u001b[1;33m.\u001b[0m\u001b[0msleep\u001b[0m\u001b[1;33m(\u001b[0m\u001b[1;36m3\u001b[0m\u001b[1;33m)\u001b[0m\u001b[1;33m\u001b[0m\u001b[1;33m\u001b[0m\u001b[0m\n",
      "\u001b[1;32m~\\anaconda3\\lib\\site-packages\\selenium\\webdriver\\remote\\webdriver.py\u001b[0m in \u001b[0;36mfind_element\u001b[1;34m(self, by, value)\u001b[0m\n\u001b[0;32m    828\u001b[0m             \u001b[0mvalue\u001b[0m \u001b[1;33m=\u001b[0m \u001b[1;34mf'[name=\"{value}\"]'\u001b[0m\u001b[1;33m\u001b[0m\u001b[1;33m\u001b[0m\u001b[0m\n\u001b[0;32m    829\u001b[0m \u001b[1;33m\u001b[0m\u001b[0m\n\u001b[1;32m--> 830\u001b[1;33m         \u001b[1;32mreturn\u001b[0m \u001b[0mself\u001b[0m\u001b[1;33m.\u001b[0m\u001b[0mexecute\u001b[0m\u001b[1;33m(\u001b[0m\u001b[0mCommand\u001b[0m\u001b[1;33m.\u001b[0m\u001b[0mFIND_ELEMENT\u001b[0m\u001b[1;33m,\u001b[0m \u001b[1;33m{\u001b[0m\u001b[1;34m\"using\"\u001b[0m\u001b[1;33m:\u001b[0m \u001b[0mby\u001b[0m\u001b[1;33m,\u001b[0m \u001b[1;34m\"value\"\u001b[0m\u001b[1;33m:\u001b[0m \u001b[0mvalue\u001b[0m\u001b[1;33m}\u001b[0m\u001b[1;33m)\u001b[0m\u001b[1;33m[\u001b[0m\u001b[1;34m\"value\"\u001b[0m\u001b[1;33m]\u001b[0m\u001b[1;33m\u001b[0m\u001b[1;33m\u001b[0m\u001b[0m\n\u001b[0m\u001b[0;32m    831\u001b[0m \u001b[1;33m\u001b[0m\u001b[0m\n\u001b[0;32m    832\u001b[0m     \u001b[1;32mdef\u001b[0m \u001b[0mfind_elements\u001b[0m\u001b[1;33m(\u001b[0m\u001b[0mself\u001b[0m\u001b[1;33m,\u001b[0m \u001b[0mby\u001b[0m\u001b[1;33m=\u001b[0m\u001b[0mBy\u001b[0m\u001b[1;33m.\u001b[0m\u001b[0mID\u001b[0m\u001b[1;33m,\u001b[0m \u001b[0mvalue\u001b[0m\u001b[1;33m:\u001b[0m \u001b[0mOptional\u001b[0m\u001b[1;33m[\u001b[0m\u001b[0mstr\u001b[0m\u001b[1;33m]\u001b[0m \u001b[1;33m=\u001b[0m \u001b[1;32mNone\u001b[0m\u001b[1;33m)\u001b[0m \u001b[1;33m->\u001b[0m \u001b[0mList\u001b[0m\u001b[1;33m[\u001b[0m\u001b[0mWebElement\u001b[0m\u001b[1;33m]\u001b[0m\u001b[1;33m:\u001b[0m\u001b[1;33m\u001b[0m\u001b[1;33m\u001b[0m\u001b[0m\n",
      "\u001b[1;32m~\\anaconda3\\lib\\site-packages\\selenium\\webdriver\\remote\\webdriver.py\u001b[0m in \u001b[0;36mexecute\u001b[1;34m(self, driver_command, params)\u001b[0m\n\u001b[0;32m    438\u001b[0m         \u001b[0mresponse\u001b[0m \u001b[1;33m=\u001b[0m \u001b[0mself\u001b[0m\u001b[1;33m.\u001b[0m\u001b[0mcommand_executor\u001b[0m\u001b[1;33m.\u001b[0m\u001b[0mexecute\u001b[0m\u001b[1;33m(\u001b[0m\u001b[0mdriver_command\u001b[0m\u001b[1;33m,\u001b[0m \u001b[0mparams\u001b[0m\u001b[1;33m)\u001b[0m\u001b[1;33m\u001b[0m\u001b[1;33m\u001b[0m\u001b[0m\n\u001b[0;32m    439\u001b[0m         \u001b[1;32mif\u001b[0m \u001b[0mresponse\u001b[0m\u001b[1;33m:\u001b[0m\u001b[1;33m\u001b[0m\u001b[1;33m\u001b[0m\u001b[0m\n\u001b[1;32m--> 440\u001b[1;33m             \u001b[0mself\u001b[0m\u001b[1;33m.\u001b[0m\u001b[0merror_handler\u001b[0m\u001b[1;33m.\u001b[0m\u001b[0mcheck_response\u001b[0m\u001b[1;33m(\u001b[0m\u001b[0mresponse\u001b[0m\u001b[1;33m)\u001b[0m\u001b[1;33m\u001b[0m\u001b[1;33m\u001b[0m\u001b[0m\n\u001b[0m\u001b[0;32m    441\u001b[0m             \u001b[0mresponse\u001b[0m\u001b[1;33m[\u001b[0m\u001b[1;34m\"value\"\u001b[0m\u001b[1;33m]\u001b[0m \u001b[1;33m=\u001b[0m \u001b[0mself\u001b[0m\u001b[1;33m.\u001b[0m\u001b[0m_unwrap_value\u001b[0m\u001b[1;33m(\u001b[0m\u001b[0mresponse\u001b[0m\u001b[1;33m.\u001b[0m\u001b[0mget\u001b[0m\u001b[1;33m(\u001b[0m\u001b[1;34m\"value\"\u001b[0m\u001b[1;33m,\u001b[0m \u001b[1;32mNone\u001b[0m\u001b[1;33m)\u001b[0m\u001b[1;33m)\u001b[0m\u001b[1;33m\u001b[0m\u001b[1;33m\u001b[0m\u001b[0m\n\u001b[0;32m    442\u001b[0m             \u001b[1;32mreturn\u001b[0m \u001b[0mresponse\u001b[0m\u001b[1;33m\u001b[0m\u001b[1;33m\u001b[0m\u001b[0m\n",
      "\u001b[1;32m~\\anaconda3\\lib\\site-packages\\selenium\\webdriver\\remote\\errorhandler.py\u001b[0m in \u001b[0;36mcheck_response\u001b[1;34m(self, response)\u001b[0m\n\u001b[0;32m    243\u001b[0m                 \u001b[0malert_text\u001b[0m \u001b[1;33m=\u001b[0m \u001b[0mvalue\u001b[0m\u001b[1;33m[\u001b[0m\u001b[1;34m\"alert\"\u001b[0m\u001b[1;33m]\u001b[0m\u001b[1;33m.\u001b[0m\u001b[0mget\u001b[0m\u001b[1;33m(\u001b[0m\u001b[1;34m\"text\"\u001b[0m\u001b[1;33m)\u001b[0m\u001b[1;33m\u001b[0m\u001b[1;33m\u001b[0m\u001b[0m\n\u001b[0;32m    244\u001b[0m             \u001b[1;32mraise\u001b[0m \u001b[0mexception_class\u001b[0m\u001b[1;33m(\u001b[0m\u001b[0mmessage\u001b[0m\u001b[1;33m,\u001b[0m \u001b[0mscreen\u001b[0m\u001b[1;33m,\u001b[0m \u001b[0mstacktrace\u001b[0m\u001b[1;33m,\u001b[0m \u001b[0malert_text\u001b[0m\u001b[1;33m)\u001b[0m  \u001b[1;31m# type: ignore[call-arg]  # mypy is not smart enough here\u001b[0m\u001b[1;33m\u001b[0m\u001b[1;33m\u001b[0m\u001b[0m\n\u001b[1;32m--> 245\u001b[1;33m         \u001b[1;32mraise\u001b[0m \u001b[0mexception_class\u001b[0m\u001b[1;33m(\u001b[0m\u001b[0mmessage\u001b[0m\u001b[1;33m,\u001b[0m \u001b[0mscreen\u001b[0m\u001b[1;33m,\u001b[0m \u001b[0mstacktrace\u001b[0m\u001b[1;33m)\u001b[0m\u001b[1;33m\u001b[0m\u001b[1;33m\u001b[0m\u001b[0m\n\u001b[0m",
      "\u001b[1;31mNoSuchWindowException\u001b[0m: Message: no such window: target window already closed\nfrom unknown error: web view not found\n  (Session info: chrome=109.0.5414.120)\nStacktrace:\nBacktrace:\n\t(No symbol) [0x00D26643]\n\t(No symbol) [0x00CBBE21]\n\t(No symbol) [0x00BBDA9D]\n\t(No symbol) [0x00B9EF6A]\n\t(No symbol) [0x00C13AAB]\n\t(No symbol) [0x00C261B6]\n\t(No symbol) [0x00C0FB76]\n\t(No symbol) [0x00BE49C1]\n\t(No symbol) [0x00BE5E5D]\n\tGetHandleVerifier [0x00F9A142+2497106]\n\tGetHandleVerifier [0x00FC85D3+2686691]\n\tGetHandleVerifier [0x00FCBB9C+2700460]\n\tGetHandleVerifier [0x00DD3B10+635936]\n\t(No symbol) [0x00CC4A1F]\n\t(No symbol) [0x00CCA418]\n\t(No symbol) [0x00CCA505]\n\t(No symbol) [0x00CD508B]\n\tBaseThreadInitThunk [0x76037D69+25]\n\tRtlInitializeExceptionChain [0x7717BB9B+107]\n\tRtlClearBits [0x7717BB1F+191]\n"
     ]
    }
   ],
   "source": [
    "#Enlace a la página web\n",
    "website = 'https://www.ncei.noaa.gov/access/monitoring/climate-at-a-glance'\n",
    "path = ('../DATOS/chromedriver')\n",
    "folder_to_save_data = ('../DATOS/Clima/')\n",
    "\n",
    "driver = webdriver.Chrome(path)\n",
    "driver.get(website) \n",
    "driver.maximize_window()\n",
    "\n",
    "#Selección de los apartados a donde a donde se encuentra la información necesaria\n",
    "state_click = driver.execute_script(\"arguments[0].click();\", driver.find_element(by=By.XPATH, value='.//*[@id=\"show-statewide\"]/a'))\n",
    "time_series_click = driver.execute_script(\"arguments[0].click();\", driver.find_element(by=By.XPATH, value='.//*[@id=\"time-series\"]/div[3]/button'))\n",
    "\n",
    "#Selección de los años (para todos los archivos el mismo rango: 1950 - 2021)\n",
    "star_year_dropdown =Select(driver.find_element(by=By.ID, value='begyear'))\n",
    "star_year_dropdown.select_by_visible_text('1950')\n",
    "end_year_dropdown = Select(driver.find_element(by=By.ID, value='endyear'))\n",
    "end_year_dropdown.select_by_visible_text('2021')\n",
    "\n",
    "#Selección del parámetro a descargar:  Temperatura media\n",
    "parameter_dropdown = Select(driver.find_element(by=By.ID, value='parameter'))\n",
    "parameter_dropdown.select_by_visible_text('Average Temperature')\n",
    "\n",
    "#Creación de un for para recorrer todos los estados y todos los meses:\n",
    "\n",
    "#Selección del estado\n",
    "select_state = driver.find_element(by=By.XPATH, value='.//*[@id=\"state\"]')\n",
    "opcion_state = select_state.find_elements(by=By.TAG_NAME, value='option')\n",
    "\n",
    "#Selección del mes\n",
    "select_month = driver.find_element(by=By.XPATH, value = '//*[@id=\"month\"]')\n",
    "opcion_month = select_month.find_elements(by = By.TAG_NAME, value='option')\n",
    "\n",
    "for change_month in opcion_month:\n",
    "    change_month.click()\n",
    "\n",
    "    for change_state in opcion_state:\n",
    "        change_state.click()\n",
    "\n",
    "        plot = driver.execute_script(\"arguments[0].click();\", driver.find_element(by=By.XPATH, value='.//input[@id=\"submit\"]'))\n",
    "        time.sleep(3)\n",
    "\n",
    "        dowload = driver.execute_script(\"arguments[0].click();\", driver.find_element(By.XPATH, '//*[@id=\"csv-download\"]'))\n",
    "        time.sleep(3)"
   ]
  },
  {
   "cell_type": "markdown",
   "id": "9f866f3d",
   "metadata": {},
   "source": [
    "[up](#id0)"
   ]
  },
  {
   "cell_type": "markdown",
   "id": "57e1681c",
   "metadata": {},
   "source": [
    "<div id='id3' />\n",
    "\n",
    "## Precipitaciones\n",
    "\n",
    "Selección de las precipitacones (mm) para cada mes y para cada estado en el rango de años de 1950 hasta 2021"
   ]
  },
  {
   "cell_type": "code",
   "execution_count": 3,
   "id": "da2efaef",
   "metadata": {},
   "outputs": [
    {
     "name": "stderr",
     "output_type": "stream",
     "text": [
      "C:\\Users\\aleja\\AppData\\Local\\Temp\\ipykernel_5748\\707172826.py:5: DeprecationWarning: executable_path has been deprecated, please pass in a Service object\n",
      "  driver = webdriver.Chrome(path)\n"
     ]
    },
    {
     "ename": "NoSuchWindowException",
     "evalue": "Message: no such window: target window already closed\nfrom unknown error: web view not found\n  (Session info: chrome=109.0.5414.120)\nStacktrace:\nBacktrace:\n\t(No symbol) [0x00D26643]\n\t(No symbol) [0x00CBBE21]\n\t(No symbol) [0x00BBDA9D]\n\t(No symbol) [0x00B9EF6A]\n\t(No symbol) [0x00C13AAB]\n\t(No symbol) [0x00C261B6]\n\t(No symbol) [0x00C0FB76]\n\t(No symbol) [0x00BE49C1]\n\t(No symbol) [0x00BE5E5D]\n\tGetHandleVerifier [0x00F9A142+2497106]\n\tGetHandleVerifier [0x00FC85D3+2686691]\n\tGetHandleVerifier [0x00FCBB9C+2700460]\n\tGetHandleVerifier [0x00DD3B10+635936]\n\t(No symbol) [0x00CC4A1F]\n\t(No symbol) [0x00CCA418]\n\t(No symbol) [0x00CCA505]\n\t(No symbol) [0x00CD508B]\n\tBaseThreadInitThunk [0x76037D69+25]\n\tRtlInitializeExceptionChain [0x7717BB9B+107]\n\tRtlClearBits [0x7717BB1F+191]\n",
     "output_type": "error",
     "traceback": [
      "\u001b[1;31m---------------------------------------------------------------------------\u001b[0m",
      "\u001b[1;31mNoSuchWindowException\u001b[0m                     Traceback (most recent call last)",
      "\u001b[1;32m~\\AppData\\Local\\Temp\\ipykernel_5748\\707172826.py\u001b[0m in \u001b[0;36m<module>\u001b[1;34m\u001b[0m\n\u001b[0;32m      5\u001b[0m \u001b[0mdriver\u001b[0m \u001b[1;33m=\u001b[0m \u001b[0mwebdriver\u001b[0m\u001b[1;33m.\u001b[0m\u001b[0mChrome\u001b[0m\u001b[1;33m(\u001b[0m\u001b[0mpath\u001b[0m\u001b[1;33m)\u001b[0m\u001b[1;33m\u001b[0m\u001b[1;33m\u001b[0m\u001b[0m\n\u001b[0;32m      6\u001b[0m \u001b[0mdriver\u001b[0m\u001b[1;33m.\u001b[0m\u001b[0mget\u001b[0m\u001b[1;33m(\u001b[0m\u001b[0mwebsite\u001b[0m\u001b[1;33m)\u001b[0m\u001b[1;33m\u001b[0m\u001b[1;33m\u001b[0m\u001b[0m\n\u001b[1;32m----> 7\u001b[1;33m \u001b[0mdriver\u001b[0m\u001b[1;33m.\u001b[0m\u001b[0mmaximize_window\u001b[0m\u001b[1;33m(\u001b[0m\u001b[1;33m)\u001b[0m\u001b[1;33m\u001b[0m\u001b[1;33m\u001b[0m\u001b[0m\n\u001b[0m\u001b[0;32m      8\u001b[0m \u001b[1;33m\u001b[0m\u001b[0m\n\u001b[0;32m      9\u001b[0m \u001b[1;31m#Selección de los apartados a donde a donde se encuentra la información necesaria\u001b[0m\u001b[1;33m\u001b[0m\u001b[1;33m\u001b[0m\u001b[0m\n",
      "\u001b[1;32m~\\anaconda3\\lib\\site-packages\\selenium\\webdriver\\remote\\webdriver.py\u001b[0m in \u001b[0;36mmaximize_window\u001b[1;34m(self)\u001b[0m\n\u001b[0;32m    590\u001b[0m         \u001b[1;34m\"\"\"Maximizes the current window that webdriver is using.\"\"\"\u001b[0m\u001b[1;33m\u001b[0m\u001b[1;33m\u001b[0m\u001b[0m\n\u001b[0;32m    591\u001b[0m         \u001b[0mcommand\u001b[0m \u001b[1;33m=\u001b[0m \u001b[0mCommand\u001b[0m\u001b[1;33m.\u001b[0m\u001b[0mW3C_MAXIMIZE_WINDOW\u001b[0m\u001b[1;33m\u001b[0m\u001b[1;33m\u001b[0m\u001b[0m\n\u001b[1;32m--> 592\u001b[1;33m         \u001b[0mself\u001b[0m\u001b[1;33m.\u001b[0m\u001b[0mexecute\u001b[0m\u001b[1;33m(\u001b[0m\u001b[0mcommand\u001b[0m\u001b[1;33m,\u001b[0m \u001b[1;32mNone\u001b[0m\u001b[1;33m)\u001b[0m\u001b[1;33m\u001b[0m\u001b[1;33m\u001b[0m\u001b[0m\n\u001b[0m\u001b[0;32m    593\u001b[0m \u001b[1;33m\u001b[0m\u001b[0m\n\u001b[0;32m    594\u001b[0m     \u001b[1;32mdef\u001b[0m \u001b[0mfullscreen_window\u001b[0m\u001b[1;33m(\u001b[0m\u001b[0mself\u001b[0m\u001b[1;33m)\u001b[0m \u001b[1;33m->\u001b[0m \u001b[1;32mNone\u001b[0m\u001b[1;33m:\u001b[0m\u001b[1;33m\u001b[0m\u001b[1;33m\u001b[0m\u001b[0m\n",
      "\u001b[1;32m~\\anaconda3\\lib\\site-packages\\selenium\\webdriver\\remote\\webdriver.py\u001b[0m in \u001b[0;36mexecute\u001b[1;34m(self, driver_command, params)\u001b[0m\n\u001b[0;32m    438\u001b[0m         \u001b[0mresponse\u001b[0m \u001b[1;33m=\u001b[0m \u001b[0mself\u001b[0m\u001b[1;33m.\u001b[0m\u001b[0mcommand_executor\u001b[0m\u001b[1;33m.\u001b[0m\u001b[0mexecute\u001b[0m\u001b[1;33m(\u001b[0m\u001b[0mdriver_command\u001b[0m\u001b[1;33m,\u001b[0m \u001b[0mparams\u001b[0m\u001b[1;33m)\u001b[0m\u001b[1;33m\u001b[0m\u001b[1;33m\u001b[0m\u001b[0m\n\u001b[0;32m    439\u001b[0m         \u001b[1;32mif\u001b[0m \u001b[0mresponse\u001b[0m\u001b[1;33m:\u001b[0m\u001b[1;33m\u001b[0m\u001b[1;33m\u001b[0m\u001b[0m\n\u001b[1;32m--> 440\u001b[1;33m             \u001b[0mself\u001b[0m\u001b[1;33m.\u001b[0m\u001b[0merror_handler\u001b[0m\u001b[1;33m.\u001b[0m\u001b[0mcheck_response\u001b[0m\u001b[1;33m(\u001b[0m\u001b[0mresponse\u001b[0m\u001b[1;33m)\u001b[0m\u001b[1;33m\u001b[0m\u001b[1;33m\u001b[0m\u001b[0m\n\u001b[0m\u001b[0;32m    441\u001b[0m             \u001b[0mresponse\u001b[0m\u001b[1;33m[\u001b[0m\u001b[1;34m\"value\"\u001b[0m\u001b[1;33m]\u001b[0m \u001b[1;33m=\u001b[0m \u001b[0mself\u001b[0m\u001b[1;33m.\u001b[0m\u001b[0m_unwrap_value\u001b[0m\u001b[1;33m(\u001b[0m\u001b[0mresponse\u001b[0m\u001b[1;33m.\u001b[0m\u001b[0mget\u001b[0m\u001b[1;33m(\u001b[0m\u001b[1;34m\"value\"\u001b[0m\u001b[1;33m,\u001b[0m \u001b[1;32mNone\u001b[0m\u001b[1;33m)\u001b[0m\u001b[1;33m)\u001b[0m\u001b[1;33m\u001b[0m\u001b[1;33m\u001b[0m\u001b[0m\n\u001b[0;32m    442\u001b[0m             \u001b[1;32mreturn\u001b[0m \u001b[0mresponse\u001b[0m\u001b[1;33m\u001b[0m\u001b[1;33m\u001b[0m\u001b[0m\n",
      "\u001b[1;32m~\\anaconda3\\lib\\site-packages\\selenium\\webdriver\\remote\\errorhandler.py\u001b[0m in \u001b[0;36mcheck_response\u001b[1;34m(self, response)\u001b[0m\n\u001b[0;32m    243\u001b[0m                 \u001b[0malert_text\u001b[0m \u001b[1;33m=\u001b[0m \u001b[0mvalue\u001b[0m\u001b[1;33m[\u001b[0m\u001b[1;34m\"alert\"\u001b[0m\u001b[1;33m]\u001b[0m\u001b[1;33m.\u001b[0m\u001b[0mget\u001b[0m\u001b[1;33m(\u001b[0m\u001b[1;34m\"text\"\u001b[0m\u001b[1;33m)\u001b[0m\u001b[1;33m\u001b[0m\u001b[1;33m\u001b[0m\u001b[0m\n\u001b[0;32m    244\u001b[0m             \u001b[1;32mraise\u001b[0m \u001b[0mexception_class\u001b[0m\u001b[1;33m(\u001b[0m\u001b[0mmessage\u001b[0m\u001b[1;33m,\u001b[0m \u001b[0mscreen\u001b[0m\u001b[1;33m,\u001b[0m \u001b[0mstacktrace\u001b[0m\u001b[1;33m,\u001b[0m \u001b[0malert_text\u001b[0m\u001b[1;33m)\u001b[0m  \u001b[1;31m# type: ignore[call-arg]  # mypy is not smart enough here\u001b[0m\u001b[1;33m\u001b[0m\u001b[1;33m\u001b[0m\u001b[0m\n\u001b[1;32m--> 245\u001b[1;33m         \u001b[1;32mraise\u001b[0m \u001b[0mexception_class\u001b[0m\u001b[1;33m(\u001b[0m\u001b[0mmessage\u001b[0m\u001b[1;33m,\u001b[0m \u001b[0mscreen\u001b[0m\u001b[1;33m,\u001b[0m \u001b[0mstacktrace\u001b[0m\u001b[1;33m)\u001b[0m\u001b[1;33m\u001b[0m\u001b[1;33m\u001b[0m\u001b[0m\n\u001b[0m",
      "\u001b[1;31mNoSuchWindowException\u001b[0m: Message: no such window: target window already closed\nfrom unknown error: web view not found\n  (Session info: chrome=109.0.5414.120)\nStacktrace:\nBacktrace:\n\t(No symbol) [0x00D26643]\n\t(No symbol) [0x00CBBE21]\n\t(No symbol) [0x00BBDA9D]\n\t(No symbol) [0x00B9EF6A]\n\t(No symbol) [0x00C13AAB]\n\t(No symbol) [0x00C261B6]\n\t(No symbol) [0x00C0FB76]\n\t(No symbol) [0x00BE49C1]\n\t(No symbol) [0x00BE5E5D]\n\tGetHandleVerifier [0x00F9A142+2497106]\n\tGetHandleVerifier [0x00FC85D3+2686691]\n\tGetHandleVerifier [0x00FCBB9C+2700460]\n\tGetHandleVerifier [0x00DD3B10+635936]\n\t(No symbol) [0x00CC4A1F]\n\t(No symbol) [0x00CCA418]\n\t(No symbol) [0x00CCA505]\n\t(No symbol) [0x00CD508B]\n\tBaseThreadInitThunk [0x76037D69+25]\n\tRtlInitializeExceptionChain [0x7717BB9B+107]\n\tRtlClearBits [0x7717BB1F+191]\n"
     ]
    }
   ],
   "source": [
    "#Enlace a la página web\n",
    "website = 'https://www.ncei.noaa.gov/access/monitoring/climate-at-a-glance'\n",
    "path = ('../DATOS/chromedriver')\n",
    "\n",
    "driver = webdriver.Chrome(path)\n",
    "driver.get(website) \n",
    "driver.maximize_window()\n",
    "\n",
    "#Selección de los apartados a donde a donde se encuentra la información necesaria\n",
    "state_click = driver.execute_script(\"arguments[0].click();\", driver.find_element(by=By.XPATH, value='.//*[@id=\"show-statewide\"]/a'))\n",
    "time_series_click = driver.execute_script(\"arguments[0].click();\", driver.find_element(by=By.XPATH, value='.//*[@id=\"time-series\"]/div[3]/button'))\n",
    "\n",
    "#Selección de los años (para todos los archivos el mismo rango: 1950 - 2021)\n",
    "star_year_dropdown =Select(driver.find_element(by=By.ID, value='begyear'))\n",
    "star_year_dropdown.select_by_visible_text('1950')\n",
    "end_year_dropdown = Select(driver.find_element(by=By.ID, value='endyear'))\n",
    "end_year_dropdown.select_by_visible_text('2021')\n",
    "\n",
    "#Selección del parámetro a descargar:  Precipitacion media\n",
    "parameter_dropdown = Select(driver.find_element(by=By.ID, value='parameter'))\n",
    "parameter_dropdown.select_by_visible_text('Precipitation')\n",
    "\n",
    "#Creación de un for apra que recorra todos los estados y todos los meses:\n",
    "\n",
    "#Selección del estado\n",
    "select_state = driver.find_element(by=By.XPATH, value='.//*[@id=\"state\"]')\n",
    "opcion_state = select_state.find_elements(by=By.TAG_NAME, value='option')\n",
    "\n",
    "#Selección del mes\n",
    "select_month = driver.find_element(by=By.XPATH, value = '//*[@id=\"month\"]')\n",
    "opcion_month = select_month.find_elements(by = By.TAG_NAME, value='option')\n",
    "\n",
    "for change_month in opcion_month:\n",
    "    change_month.click()\n",
    "\n",
    "    for change_state in opcion_state:\n",
    "        change_state.click()\n",
    "\n",
    "        plot = driver.execute_script(\"arguments[0].click();\", driver.find_element(by=By.XPATH, value='.//input[@id=\"submit\"]'))\n",
    "        time.sleep(3)\n",
    "        dowload = driver.execute_script(\"arguments[0].click();\", driver.find_element(By.XPATH, '//*[@id=\"csv-download\"]'))\n",
    "        time.sleep(3)"
   ]
  },
  {
   "cell_type": "code",
   "execution_count": null,
   "id": "11047060",
   "metadata": {},
   "outputs": [],
   "source": []
  }
 ],
 "metadata": {
  "kernelspec": {
   "display_name": "Python 3 (ipykernel)",
   "language": "python",
   "name": "python3"
  },
  "language_info": {
   "codemirror_mode": {
    "name": "ipython",
    "version": 3
   },
   "file_extension": ".py",
   "mimetype": "text/x-python",
   "name": "python",
   "nbconvert_exporter": "python",
   "pygments_lexer": "ipython3",
   "version": "3.9.13"
  },
  "vscode": {
   "interpreter": {
    "hash": "32a3e530000ba53acf1932123aae5e6f99e69a5f3504c7f27c942507bf3b5c74"
   }
  }
 },
 "nbformat": 4,
 "nbformat_minor": 5
}
