{
 "cells": [
  {
   "cell_type": "markdown",
   "metadata": {},
   "source": [
    "<div id='id0' />\n",
    "\n",
    "# Análisis multivariante\n",
    "Este notebook está orientado al estudio conjunto de las variables de superficie, temperatura y precipitaciones, con el fin de ver las relaciones que hay entre ellas."
   ]
  },
  {
   "cell_type": "markdown",
   "metadata": {},
   "source": [
    "1. [Análisis de la variable de Temperatura](#id1)\n",
    "    - [Lectura y transformación de los dataframes](#id2)\n",
    "    - [Análisis Temperatura y precipitación](#id5)\n",
    "        - [Estudio de las correlaciones](#id3)\n",
    "    - [Agregación de la variable superficie](#id4)\n",
    "    - [Análisis de Correlación de las variables Temperatura, Precipitación y Superficie](#id6)\n",
    "    - [Análisis por agrupación de variables de Precipitación, Temperatura y Superficie por año](#id8)\n",
    "    - [Análisis las variables para cada cultivo](#id9)\n",
    "\t    - [Estudio de la distribución](#id10)\n",
    "        - [Correlación lineal (Rolling windows)](#id11)\n",
    "2. [Conclusiones](#id7)"
   ]
  },
  {
   "cell_type": "code",
   "execution_count": null,
   "metadata": {
    "scrolled": true
   },
   "outputs": [],
   "source": [
    "#--BASE--#\n",
    "%matplotlib inline\n",
    "import pandas as pd\n",
    "import seaborn as sns\n",
    "import warnings\n",
    "import numpy as np\n",
    "import datetime\n",
    "import os\n",
    "import warnings\n",
    "from datetime import timedelta\n",
    "import functions\n",
    "from phik import phik_matrix\n",
    "import pingouin as pg\n",
    "\n",
    "#--VISUALIZACIÓN--#\n",
    "import matplotlib as mpl\n",
    "import plotly.graph_objects as go\n",
    "import matplotlib.pyplot as plt\n",
    "import seaborn as sns\n",
    "import plotly.express as px\n",
    "import plotly.figure_factory as ff\n",
    "from plotly.subplots import make_subplots\n",
    "from statsmodels.graphics.factorplots import interaction_plot\n",
    "\n",
    "#--CONFIGURACIÓN--#\n",
    "pd.set_option('display.max_columns', None)\n",
    "pd.set_option('display.max_rows', 100)\n",
    "pd.options.display.float_format = '{:.2f}'.format\n",
    "warnings.filterwarnings('ignore')"
   ]
  },
  {
   "cell_type": "code",
   "execution_count": 8,
   "metadata": {},
   "outputs": [
    {
     "name": "stdout",
     "output_type": "stream",
     "text": [
      "Collecting shap\n",
      "  Downloading shap-0.41.0-cp39-cp39-win_amd64.whl (435 kB)\n",
      "     -------------------------------------- 435.6/435.6 kB 5.5 MB/s eta 0:00:00\n",
      "Requirement already satisfied: numba in c:\\users\\aleja\\anaconda3\\lib\\site-packages (from shap) (0.55.1)\n",
      "Requirement already satisfied: pandas in c:\\users\\aleja\\anaconda3\\lib\\site-packages (from shap) (1.4.4)\n",
      "Requirement already satisfied: numpy in c:\\users\\aleja\\anaconda3\\lib\\site-packages (from shap) (1.21.5)\n",
      "Requirement already satisfied: packaging>20.9 in c:\\users\\aleja\\anaconda3\\lib\\site-packages (from shap) (21.3)\n",
      "Requirement already satisfied: scikit-learn in c:\\users\\aleja\\anaconda3\\lib\\site-packages (from shap) (1.0.2)\n",
      "Requirement already satisfied: cloudpickle in c:\\users\\aleja\\anaconda3\\lib\\site-packages (from shap) (2.0.0)\n",
      "Requirement already satisfied: tqdm>4.25.0 in c:\\users\\aleja\\anaconda3\\lib\\site-packages (from shap) (4.64.1)\n",
      "Requirement already satisfied: scipy in c:\\users\\aleja\\anaconda3\\lib\\site-packages (from shap) (1.9.1)\n",
      "Collecting slicer==0.0.7\n",
      "  Using cached slicer-0.0.7-py3-none-any.whl (14 kB)\n",
      "Requirement already satisfied: pyparsing!=3.0.5,>=2.0.2 in c:\\users\\aleja\\anaconda3\\lib\\site-packages (from packaging>20.9->shap) (3.0.9)\n",
      "Requirement already satisfied: colorama in c:\\users\\aleja\\anaconda3\\lib\\site-packages (from tqdm>4.25.0->shap) (0.4.5)\n",
      "Requirement already satisfied: setuptools in c:\\users\\aleja\\anaconda3\\lib\\site-packages (from numba->shap) (63.4.1)\n",
      "Requirement already satisfied: llvmlite<0.39,>=0.38.0rc1 in c:\\users\\aleja\\anaconda3\\lib\\site-packages (from numba->shap) (0.38.0)\n",
      "Requirement already satisfied: pytz>=2020.1 in c:\\users\\aleja\\anaconda3\\lib\\site-packages (from pandas->shap) (2022.1)\n",
      "Requirement already satisfied: python-dateutil>=2.8.1 in c:\\users\\aleja\\anaconda3\\lib\\site-packages (from pandas->shap) (2.8.2)\n",
      "Requirement already satisfied: threadpoolctl>=2.0.0 in c:\\users\\aleja\\anaconda3\\lib\\site-packages (from scikit-learn->shap) (2.2.0)\n",
      "Requirement already satisfied: joblib>=0.11 in c:\\users\\aleja\\anaconda3\\lib\\site-packages (from scikit-learn->shap) (1.1.0)\n",
      "Requirement already satisfied: six>=1.5 in c:\\users\\aleja\\anaconda3\\lib\\site-packages (from python-dateutil>=2.8.1->pandas->shap) (1.16.0)\n",
      "Installing collected packages: slicer, shap\n",
      "Successfully installed shap-0.41.0 slicer-0.0.7\n",
      "Note: you may need to restart the kernel to use updated packages.\n"
     ]
    }
   ],
   "source": [
    "pip install shap"
   ]
  },
  {
   "cell_type": "markdown",
   "metadata": {},
   "source": [
    "[up](#id0)\n",
    "\n",
    "<div id='id2' />\n",
    "\n",
    "## Lectura y transformación de los dataframes"
   ]
  },
  {
   "cell_type": "code",
   "execution_count": null,
   "metadata": {},
   "outputs": [],
   "source": [
    "Sup = pd.read_excel('../DATOS/API_superficie_cultivada/TOTAL/TOTAL.xlsx')\n",
    "pp = pd.read_csv('../DATOS/Clima/TOTAL_STATES_PP.csv')\n",
    "Temp = pd.read_csv('../DATOS/Clima/TOTAL_STATES_T.csv')"
   ]
  },
  {
   "cell_type": "code",
   "execution_count": null,
   "metadata": {},
   "outputs": [],
   "source": [
    "Sup.head(2)"
   ]
  },
  {
   "cell_type": "code",
   "execution_count": null,
   "metadata": {},
   "outputs": [],
   "source": [
    "pp.head(2)"
   ]
  },
  {
   "cell_type": "code",
   "execution_count": null,
   "metadata": {},
   "outputs": [],
   "source": [
    "Temp.head(2)"
   ]
  },
  {
   "cell_type": "code",
   "execution_count": null,
   "metadata": {},
   "outputs": [],
   "source": [
    "Temp.info()"
   ]
  },
  {
   "cell_type": "code",
   "execution_count": null,
   "metadata": {},
   "outputs": [],
   "source": [
    "Temp['date'] = Temp['date'].astype(str)\n",
    "pp['date'] = pp['date'].astype(str)"
   ]
  },
  {
   "cell_type": "markdown",
   "metadata": {},
   "source": [
    "Se concatenan ambos archivos"
   ]
  },
  {
   "cell_type": "code",
   "execution_count": null,
   "metadata": {},
   "outputs": [],
   "source": [
    "#Concatenado\n",
    "\n",
    "Temp['concat'] = Temp['State'] + Temp['date'] + Temp ['Months']\n",
    "pp['concat'] = pp['State'] + pp['date'] + pp ['Months']"
   ]
  },
  {
   "cell_type": "code",
   "execution_count": null,
   "metadata": {},
   "outputs": [],
   "source": [
    "clima = Temp.merge(pp, right_on='concat', left_on='concat', how = 'outer')\n",
    "clima"
   ]
  },
  {
   "cell_type": "code",
   "execution_count": null,
   "metadata": {},
   "outputs": [],
   "source": [
    "clima.isnull().sum()"
   ]
  },
  {
   "cell_type": "code",
   "execution_count": null,
   "metadata": {},
   "outputs": [],
   "source": [
    "#Modificación de las columnas\n",
    "\n",
    "clima.drop(columns=['concat', 'State_y','date_y', 'Months_y'], inplace = True)\n",
    "clima.rename(columns=({'State_x':'State', 'date_x': 'date', 'Months_x': 'months'}), inplace= True)"
   ]
  },
  {
   "cell_type": "markdown",
   "metadata": {},
   "source": [
    "[up](#id0)\n",
    "\n",
    "<div id='id5' />\n",
    "\n",
    "## Análisis de Temperatura y Precipitación\n",
    "Debido a que los datos de temperatura y precipitación contienen una mayor cantidad de información respecto a la variable de superficie (las dos primeras variables se subdividen en meses mientras que en la variable superficie esta subdivisión no existe) se decide hacer un análisis conjunto de las variables de temperatura y precipitación y posteriormente incluir la variable superficie."
   ]
  },
  {
   "cell_type": "code",
   "execution_count": null,
   "metadata": {},
   "outputs": [],
   "source": [
    "pp_group = pd.DataFrame(pp.groupby('date')['Precipitation'].mean())\n",
    "Temp_group =pd.DataFrame(Temp.groupby('date')['Temperature'].mean())"
   ]
  },
  {
   "cell_type": "markdown",
   "metadata": {},
   "source": [
    "Representación gráfica de las variables:"
   ]
  },
  {
   "cell_type": "code",
   "execution_count": null,
   "metadata": {},
   "outputs": [],
   "source": [
    "# Create figure with secondary y-axis\n",
    "fig = make_subplots(specs=[[{\"secondary_y\": True}]])\n",
    "\n",
    "# Add traces\n",
    "fig.add_trace(\n",
    "    go.Line(y=pp_group['Precipitation'], x=pp_group.index, name=\"Precipitación\"),\n",
    "    secondary_y=False,)\n",
    "\n",
    "fig.add_trace(\n",
    "    go.Line(y=Temp_group['Temperature'], x=Temp_group.index, name=\"Temperatura\"),\n",
    "    secondary_y=True,)\n",
    "\n",
    "# Add figure title\n",
    "fig.update_layout(\n",
    "    title_text=\"Temperatura y Precipitación\")\n",
    "\n",
    "# Set y-axes titles\n",
    "fig.update_yaxes(title_text=\"Temperatura (ºC)\", secondary_y=False)\n",
    "fig.update_yaxes(title_text=\"Precipitación (mm)\", secondary_y=True)\n",
    "\n",
    "fig.show()"
   ]
  },
  {
   "cell_type": "code",
   "execution_count": null,
   "metadata": {},
   "outputs": [],
   "source": [
    "clima.head()"
   ]
  },
  {
   "cell_type": "markdown",
   "metadata": {},
   "source": [
    "[up](#id0)\n",
    "\n",
    "<div id='id3' />\n",
    "\n",
    "### Estudio de las correlaciones"
   ]
  },
  {
   "cell_type": "code",
   "execution_count": null,
   "metadata": {},
   "outputs": [],
   "source": [
    "px.scatter(\n",
    "        clima,\n",
    "        y = 'Precipitation',  \n",
    "        x = 'Temperature', \n",
    "        trendline=\"ols\",\n",
    "        color = 'months',\n",
    "        opacity = 0.5,\n",
    "        height=600, width=800,\n",
    "        title='Correlación entre Tª y pp para cada mes')"
   ]
  },
  {
   "cell_type": "code",
   "execution_count": null,
   "metadata": {},
   "outputs": [],
   "source": [
    "#Correlación lineal\n",
    "\n",
    "print(clima.corr(method='pearson'))\n",
    "print(clima.corr(method='spearman'))"
   ]
  },
  {
   "cell_type": "markdown",
   "metadata": {},
   "source": [
    "Se analiza la correlación lineal entre la precipitación y la temperatura por intervalos de tiempo (5 años) para cada año."
   ]
  },
  {
   "cell_type": "code",
   "execution_count": null,
   "metadata": {},
   "outputs": [],
   "source": [
    "px.line(pp_group['Precipitation'].rolling(5).corr(Temp_group['Temperature']), title = 'Rolling window precipitación vs temperatura').update_layout(yaxis={\"title\": \"correlation\"})"
   ]
  },
  {
   "cell_type": "code",
   "execution_count": null,
   "metadata": {},
   "outputs": [],
   "source": [
    "clima"
   ]
  },
  {
   "cell_type": "code",
   "execution_count": null,
   "metadata": {},
   "outputs": [],
   "source": [
    "functions.matrix_mic(clima[['Temperature',\t'Precipitation']])"
   ]
  },
  {
   "cell_type": "markdown",
   "metadata": {},
   "source": [
    "[up](#id0)\n",
    "\n",
    "<div id='id4' />\n",
    "\n",
    "## Agregación de la variable superfice"
   ]
  },
  {
   "cell_type": "code",
   "execution_count": null,
   "metadata": {},
   "outputs": [],
   "source": [
    "clima.head()"
   ]
  },
  {
   "cell_type": "code",
   "execution_count": null,
   "metadata": {},
   "outputs": [],
   "source": [
    "Sup.head()"
   ]
  },
  {
   "cell_type": "code",
   "execution_count": null,
   "metadata": {},
   "outputs": [],
   "source": [
    "Sup[['commodity_desc', 'state_name', 'year', 'hectare']].count()"
   ]
  },
  {
   "cell_type": "code",
   "execution_count": null,
   "metadata": {},
   "outputs": [],
   "source": [
    "Sup[['commodity_desc', 'state_name', 'year']].drop_duplicates().shape"
   ]
  },
  {
   "cell_type": "code",
   "execution_count": null,
   "metadata": {},
   "outputs": [],
   "source": [
    "clima.info()"
   ]
  },
  {
   "cell_type": "code",
   "execution_count": null,
   "metadata": {},
   "outputs": [],
   "source": [
    "Sup.info()"
   ]
  },
  {
   "cell_type": "code",
   "execution_count": null,
   "metadata": {},
   "outputs": [],
   "source": [
    "Sup['state_name'] = Sup['state_name'].str.capitalize()\n",
    "Sup['year'] = Sup['year'].astype(str)\n",
    "Sup['state_name'] = Sup['state_name'].str.replace(\" \", \"_\")\n",
    "Sup['concat'] = Sup['state_name'] + Sup['year']\n",
    "Sup.head(2)"
   ]
  },
  {
   "cell_type": "code",
   "execution_count": null,
   "metadata": {},
   "outputs": [],
   "source": [
    "clima = clima.groupby(['State', 'date'])['Temperature', 'Precipitation'].mean()\n",
    "clima.reset_index(inplace=True)\n",
    "clima['State'] = clima['State'].str.capitalize()\n",
    "clima['concat'] = clima['State'] + clima['date']\n",
    "clima.head(2)"
   ]
  },
  {
   "cell_type": "code",
   "execution_count": null,
   "metadata": {},
   "outputs": [],
   "source": [
    "concat = Sup.merge(clima, left_on='concat', right_on='concat', how='outer')"
   ]
  },
  {
   "cell_type": "code",
   "execution_count": null,
   "metadata": {},
   "outputs": [],
   "source": [
    "concat.isnull().sum()"
   ]
  },
  {
   "cell_type": "markdown",
   "metadata": {},
   "source": [
    "Los valores nulos hacen referencia principalmente al estado de Alaska el cual no aparece en los datos de Superficie y a un valor en los datos de superficie \"other_states\"y de \"Hawaii\" que tampoco aparece en los datos de clima."
   ]
  },
  {
   "cell_type": "code",
   "execution_count": null,
   "metadata": {},
   "outputs": [],
   "source": [
    "concat.dropna(inplace = True)\n",
    "concat.drop(columns=['state_name', 'year', 'concat'], inplace = True) #eliminamos las columnas repetidas y concatenadas"
   ]
  },
  {
   "cell_type": "code",
   "execution_count": null,
   "metadata": {},
   "outputs": [],
   "source": [
    "#Cambio de posición en el dataframe la columna \"hectare y commodity_desc\"\n",
    "\n",
    "col = concat.pop('hectare')\n",
    "concat.insert(loc= 2 , column= 'hectare', value= col)"
   ]
  },
  {
   "cell_type": "code",
   "execution_count": null,
   "metadata": {},
   "outputs": [],
   "source": [
    "col = concat.pop('commodity_desc')\n",
    "concat.insert(loc= 2 , column= 'commodity_desc', value= col)"
   ]
  },
  {
   "cell_type": "markdown",
   "metadata": {},
   "source": [
    "[up](#id0)\n",
    "\n",
    "<div id='id6' />\n",
    "\n",
    "## Análisis de Correlación de las variables Temperatura, Precipitación y Superficie"
   ]
  },
  {
   "cell_type": "code",
   "execution_count": null,
   "metadata": {},
   "outputs": [],
   "source": [
    "concat"
   ]
  },
  {
   "cell_type": "code",
   "execution_count": null,
   "metadata": {},
   "outputs": [],
   "source": [
    "px.scatter(\n",
    "        concat,\n",
    "        y = 'hectare',  \n",
    "        x = 'Temperature', \n",
    "        trendline=\"ols\",\n",
    "        color = 'commodity_desc',\n",
    "        opacity = 0.5,\n",
    "        height=600, width=800,\n",
    "        title='Correlación entre Superficie y Temperatura')"
   ]
  },
  {
   "cell_type": "code",
   "execution_count": null,
   "metadata": {},
   "outputs": [],
   "source": [
    "px.scatter(\n",
    "        concat,\n",
    "        y = 'hectare',  \n",
    "        x = 'Precipitation', \n",
    "        trendline=\"ols\",\n",
    "        color = 'commodity_desc',\n",
    "        opacity = 0.5,\n",
    "        height=600, width=800,\n",
    "        title='Correlación entre Superficie y Precipitación')"
   ]
  },
  {
   "cell_type": "code",
   "execution_count": null,
   "metadata": {},
   "outputs": [],
   "source": [
    "# Correlación lineal de variables\n",
    "\n",
    "sns.set(rc={'figure.figsize':(5,3)})\n",
    "correlation_matrix = concat.corr().round(2)\n",
    "sns.heatmap(data=correlation_matrix, annot=True);"
   ]
  },
  {
   "cell_type": "code",
   "execution_count": null,
   "metadata": {},
   "outputs": [],
   "source": [
    "#Correlación lineal lagueando las variables \n",
    "\n",
    "for i in concat[['Temperature', 'Precipitation']][concat.date != 0].columns:\n",
    "    series1 = i\n",
    "    series2 = 'hectare'\n",
    "\n",
    "    rs, offset, peak = functions.corr_lag(series1, series2, concat)\n",
    "\n",
    "    ticks = range(0,2*200+1,50)\n",
    "    tick_labels = range(-200,201,50)\n",
    "\n",
    "    rs.plot()\n",
    "    plt.xticks(ticks = ticks,labels = tick_labels)\n",
    "    plt.axvline(peak,color = \"red\",linestyle=\"--\",label = \"Peak\")\n",
    "    plt.title('{} leads <> {} leads'.format(series1,series2))\n",
    "    plt.show()"
   ]
  },
  {
   "cell_type": "code",
   "execution_count": null,
   "metadata": {},
   "outputs": [],
   "source": [
    "# Correlación No lineal\n",
    "\n",
    "sns.set(rc={'figure.figsize':(5,3)})\n",
    "correlation_matrix = functions.matrix_mic(concat[['date', 'hectare', 'Temperature', 'Precipitation']]).round(2)\n",
    "sns.heatmap(data=correlation_matrix, annot=True, cmap=\"YlGnBu\");"
   ]
  },
  {
   "cell_type": "code",
   "execution_count": null,
   "metadata": {},
   "outputs": [],
   "source": [
    "g = sns.PairGrid(concat)\n",
    "g.map_diag(sns.histplot)\n",
    "g.map_offdiag(sns.scatterplot);"
   ]
  },
  {
   "cell_type": "markdown",
   "metadata": {},
   "source": [
    "[up](#id0)\n",
    "\n",
    "<div id='id8' />\n",
    "\n",
    "## Análisis por agrupación de variables de Precipitación, Temperatura y Hectárea por año\n",
    "En este apartado se pretende hacer un estudio similar al anterior pero en este caso a nivel de EEUU, con el fin de ver si con la media de las variables para cada año, se obtienen mejores resultados que en el apartado anterior."
   ]
  },
  {
   "cell_type": "code",
   "execution_count": null,
   "metadata": {},
   "outputs": [],
   "source": [
    "agrupation = pd.pivot_table(\n",
    "    data=concat, \n",
    "    index='date',\n",
    "    aggfunc={'hectare': np.sum, 'Temperature': np.mean, 'Precipitation': np.mean}\n",
    "    )"
   ]
  },
  {
   "cell_type": "code",
   "execution_count": null,
   "metadata": {},
   "outputs": [],
   "source": [
    "agrupation.head()"
   ]
  },
  {
   "cell_type": "code",
   "execution_count": null,
   "metadata": {},
   "outputs": [],
   "source": [
    "px.scatter(\n",
    "        agrupation,\n",
    "        y = 'Precipitation',  \n",
    "        x = 'Temperature', \n",
    "        trendline=\"ols\",\n",
    "        #color = agrupation.index,\n",
    "        opacity = 0.5,\n",
    "        height=600, width=800,\n",
    "        title='Correlación entre Tª y pp')"
   ]
  },
  {
   "cell_type": "code",
   "execution_count": null,
   "metadata": {},
   "outputs": [],
   "source": [
    "px.scatter(\n",
    "        agrupation,\n",
    "        y = 'Precipitation',  \n",
    "        x = 'hectare', \n",
    "        trendline=\"ols\",\n",
    "        #color = agrupation.index,\n",
    "        opacity = 0.5,\n",
    "        height=600, width=800,\n",
    "        title='Correlación entre Tª y pp')"
   ]
  },
  {
   "cell_type": "code",
   "execution_count": null,
   "metadata": {},
   "outputs": [],
   "source": [
    "px.scatter(\n",
    "        agrupation,\n",
    "        y = 'Temperature',  \n",
    "        x = 'hectare', \n",
    "        trendline=\"ols\",\n",
    "        #color = agrupation.index,\n",
    "        opacity = 0.5,\n",
    "        height=600, width=800,\n",
    "        title='Correlación entre Tª y pp')"
   ]
  },
  {
   "cell_type": "code",
   "execution_count": null,
   "metadata": {},
   "outputs": [],
   "source": [
    "#Correlación lineal\n",
    "\n",
    "sns.set(rc={'figure.figsize':(5,3)})\n",
    "correlation_matrix = agrupation.corr().round(2)\n",
    "sns.heatmap(data=correlation_matrix, annot=True);"
   ]
  },
  {
   "cell_type": "code",
   "execution_count": null,
   "metadata": {},
   "outputs": [],
   "source": [
    "# Correlación No lineal\n",
    "\n",
    "sns.set(rc={'figure.figsize':(5,3)})\n",
    "correlation_matrix = functions.matrix_mic(agrupation[['Temperature', 'Precipitation', 'hectare']]).round(2)\n",
    "sns.heatmap(data=correlation_matrix, annot=True, cmap=\"YlGnBu\");"
   ]
  },
  {
   "cell_type": "code",
   "execution_count": null,
   "metadata": {},
   "outputs": [],
   "source": [
    "#Correlación lineal lagueando las variables \n",
    "\n",
    "for i in agrupation[['Temperature', 'Precipitation']][agrupation.index != 0].columns:\n",
    "    series1 = i\n",
    "    series2 = 'hectare'\n",
    "\n",
    "    rs, offset, peak = functions.corr_lag(series1, series2, concat)\n",
    "\n",
    "    ticks = range(0,2*200+1,50)\n",
    "    tick_labels = range(-200,201,50)\n",
    "\n",
    "    rs.plot()\n",
    "    plt.xticks(ticks = ticks,labels = tick_labels)\n",
    "    plt.axvline(peak,color = \"red\",linestyle=\"--\",label = \"Peak\")\n",
    "    plt.title('{} leads <> {} leads'.format(series1,series2))\n",
    "    plt.show()"
   ]
  },
  {
   "cell_type": "code",
   "execution_count": null,
   "metadata": {},
   "outputs": [],
   "source": [
    "agrupation.head()"
   ]
  },
  {
   "cell_type": "code",
   "execution_count": null,
   "metadata": {},
   "outputs": [],
   "source": [
    "px.line(agrupation['hectare'].rolling(5).corr(agrupation['Temperature']), title = 'Rolling window superficie(ha) vs temperatura(ºC)').update_layout(yaxis={\"title\": \"correlation\"})"
   ]
  },
  {
   "cell_type": "code",
   "execution_count": null,
   "metadata": {},
   "outputs": [],
   "source": [
    "px.line(agrupation['hectare'].rolling(5).corr(agrupation['Precipitation']), title = 'Rolling window superficie(ha) vs precipitación (mm)').update_layout(yaxis={\"title\": \"correlation\"})"
   ]
  },
  {
   "cell_type": "code",
   "execution_count": null,
   "metadata": {},
   "outputs": [],
   "source": [
    "agrupation.to_csv('../DATOS/archivos creados analisis/variables_agrupadas.csv')"
   ]
  },
  {
   "cell_type": "markdown",
   "metadata": {},
   "source": [
    "[up](#id0)\n",
    "\n",
    "<div id='id9' />\n",
    "\n",
    "## Análisis las variables para cada cultivo\n",
    "Otro análisis que se realiza (similar a los anterior) es el estudio de cada uno de los cultivos.\n",
    "\n",
    "Para este caso, como se ve a continuación, se seleccionan los cultivos que han tenido una mayor representación a lo largo de los años en EEUU."
   ]
  },
  {
   "cell_type": "code",
   "execution_count": null,
   "metadata": {},
   "outputs": [],
   "source": [
    "crop = pd.DataFrame(concat.groupby('commodity_desc')['hectare'].sum().sort_values(ascending = False))\n",
    "crop['percentage'] = crop/crop['hectare'].sum()\n",
    "crop[:10]"
   ]
  },
  {
   "cell_type": "code",
   "execution_count": null,
   "metadata": {},
   "outputs": [],
   "source": [
    "crop[:7].sum()"
   ]
  },
  {
   "cell_type": "code",
   "execution_count": null,
   "metadata": {},
   "outputs": [],
   "source": [
    "concat_selection = concat[concat['commodity_desc'].isin(['WHEAT', 'CORN', 'SOYBEANS', 'COTTON', 'SORGHUM', 'BARLEY', 'OATS'])]"
   ]
  },
  {
   "cell_type": "code",
   "execution_count": null,
   "metadata": {},
   "outputs": [],
   "source": [
    "concat_selection.head()"
   ]
  },
  {
   "cell_type": "code",
   "execution_count": null,
   "metadata": {},
   "outputs": [],
   "source": [
    "concat_selection.to_csv('../DATOS/archivos creados analisis/seleción_cultivos.csv', index=False)"
   ]
  },
  {
   "cell_type": "code",
   "execution_count": null,
   "metadata": {},
   "outputs": [],
   "source": [
    "variables = pd.pivot_table(\n",
    "    data=concat_selection, \n",
    "    columns='commodity_desc', \n",
    "    values=['hectare', 'Temperature', 'Precipitation'], \n",
    "    index='date', \n",
    "    aggfunc={'hectare':np.sum, 'Temperature':np.mean, 'Precipitation':np.mean}\n",
    "    )\n",
    "variables.head()"
   ]
  },
  {
   "cell_type": "code",
   "execution_count": null,
   "metadata": {},
   "outputs": [],
   "source": [
    "# Correlación lineal\n",
    "\n",
    "sns.set(rc={'figure.figsize':(15,15)})\n",
    "correlation_matrix = variables.corr().round(2)\n",
    "sns.heatmap(data=correlation_matrix, annot=True);"
   ]
  },
  {
   "cell_type": "code",
   "execution_count": null,
   "metadata": {},
   "outputs": [],
   "source": [
    "# Correlación No lineal\n",
    "\n",
    "sns.set(rc={'figure.figsize':(15,15)})\n",
    "correlation_matrix = functions.matrix_mic(variables).round(2)\n",
    "sns.heatmap(data=correlation_matrix, annot=True, cmap=\"YlGnBu\");"
   ]
  },
  {
   "cell_type": "markdown",
   "metadata": {},
   "source": [
    "[up](#id0)\n",
    "\n",
    "<div id='id10' />\n",
    "\n",
    "### Estudio de la distribución"
   ]
  },
  {
   "cell_type": "code",
   "execution_count": null,
   "metadata": {},
   "outputs": [],
   "source": [
    "\n",
    "fig, ax =plt.subplots(1,2,figsize=(15,5))\n",
    "sns.distplot(variables['Precipitation'], ax=ax[0]).set(title = 'Distribución de la Precipitación')\n",
    "sns.boxplot(data = variables['Precipitation'], ax=ax[1]).set(title = 'Distribución de la Precipitación para cada cultivo')\n",
    "fig.show()"
   ]
  },
  {
   "cell_type": "code",
   "execution_count": null,
   "metadata": {},
   "outputs": [],
   "source": [
    "fig, ax =plt.subplots(1,2,figsize=(15,5))\n",
    "sns.distplot(variables['Temperature'], ax=ax[0]).set(title = 'Distribución de la Temperatura')\n",
    "sns.boxplot(data = variables['Temperature'], ax=ax[1]).set(title = 'Distribución de la Temperatura para cada cultivo')\n",
    "fig.show()"
   ]
  },
  {
   "cell_type": "code",
   "execution_count": null,
   "metadata": {},
   "outputs": [],
   "source": [
    "fig, ax =plt.subplots(1,2,figsize=(15,5))\n",
    "sns.distplot(variables['hectare'], ax=ax[0]).set(title = 'Distribución de la Superficie')\n",
    "sns.boxplot(data = variables['hectare'], ax=ax[1]).set(title = 'Distribución de la Superficie para cada cultivo')\n",
    "fig.show()"
   ]
  },
  {
   "cell_type": "code",
   "execution_count": null,
   "metadata": {},
   "outputs": [],
   "source": [
    "variables.hist();"
   ]
  },
  {
   "cell_type": "markdown",
   "metadata": {},
   "source": [
    "[up](#id0)\n",
    "\n",
    "<div id='id11' />\n",
    "\n",
    "### Correlación lineal (Rolling windows)"
   ]
  },
  {
   "cell_type": "code",
   "execution_count": null,
   "metadata": {},
   "outputs": [],
   "source": [
    "px.line(variables['hectare'].rolling(5).corr(variables['Temperature']), title = 'Rolling window superficie(ha) vs temperatura').update_layout(yaxis={\"title\": \"correlation\"})"
   ]
  },
  {
   "cell_type": "code",
   "execution_count": null,
   "metadata": {},
   "outputs": [],
   "source": [
    "px.line(variables['hectare'].rolling(5).corr(variables['Precipitation']), title = 'Rolling window superficie(ha) vs precipitación').update_layout(yaxis={\"title\": \"correlation\"})"
   ]
  },
  {
   "cell_type": "code",
   "execution_count": null,
   "metadata": {},
   "outputs": [],
   "source": [
    "variables.head()"
   ]
  },
  {
   "cell_type": "code",
   "execution_count": null,
   "metadata": {},
   "outputs": [],
   "source": [
    "variables_1 = variables.copy()"
   ]
  },
  {
   "cell_type": "code",
   "execution_count": null,
   "metadata": {},
   "outputs": [],
   "source": [
    "variables_1.columns = variables_1.columns.droplevel(1)"
   ]
  },
  {
   "cell_type": "code",
   "execution_count": null,
   "metadata": {},
   "outputs": [],
   "source": [
    "variables_1['BARLEY_Prec'] = variables_1.iloc[:, 0]\n",
    "variables_1['CORN_Prec'] = variables_1.iloc[:, 1]\n",
    "variables_1['COTTON_Prec'] = variables_1.iloc[:, 2]\n",
    "variables_1['OATS_Prec'] = variables_1.iloc[:, 3]\n",
    "variables_1['SORGHUM_Prec'] = variables_1.iloc[:, 4]\n",
    "variables_1['SOYBEANS_Prec'] = variables_1.iloc[:, 5]\n",
    "variables_1['WHEAT_Prec'] = variables_1.iloc[:, 6]\n",
    "\n",
    "variables_1['BARLEY_Temp'] = variables_1.iloc[:, 7]\n",
    "variables_1['CORN_Temp'] = variables_1.iloc[:, 8]\n",
    "variables_1['COTTON_Temp'] = variables_1.iloc[:, 9]\n",
    "variables_1['OATS_Temp'] = variables_1.iloc[:, 10]\n",
    "variables_1['SORGHUM_Temp'] = variables_1.iloc[:, 11]\n",
    "variables_1['SOYBEANS_Temp'] = variables_1.iloc[:, 12]\n",
    "variables_1['WHEAT_Temp'] = variables_1.iloc[:, 13]\n",
    "\n",
    "variables_1['BARLEY_Ha'] = variables_1.iloc[:, 14]\n",
    "variables_1['CORN_Ha'] = variables_1.iloc[:, 15]\n",
    "variables_1['COTTON_Ha'] = variables_1.iloc[:, 16]\n",
    "variables_1['OATS_Ha'] = variables_1.iloc[:, 17]\n",
    "variables_1['SORGHUM_Ha'] = variables_1.iloc[:, 18]\n",
    "variables_1['SOYBEANS_Ha'] = variables_1.iloc[:, 19]\n",
    "variables_1['WHEAT_Ha'] = variables_1.iloc[:, 20]\n",
    "\n",
    "variables_1.drop(columns=['Precipitation', 'Temperature', 'hectare'], inplace=True)"
   ]
  },
  {
   "cell_type": "code",
   "execution_count": null,
   "metadata": {},
   "outputs": [],
   "source": [
    "variables_1.head()"
   ]
  },
  {
   "cell_type": "markdown",
   "metadata": {},
   "source": [
    "A continuación se estudia el tipo de distribución que tienen las variables de estudio de este apartado."
   ]
  },
  {
   "cell_type": "code",
   "execution_count": null,
   "metadata": {},
   "outputs": [],
   "source": [
    "#Gráficos qqplot (HECTAREAS)\n",
    "\n",
    "fig, axs = plt.subplots(3, 3, figsize=(10, 9))\n",
    "pg.qqplot(variables_1.loc[variables_1.index, 'BARLEY_Ha'], dist='norm', ax=axs[0,0])\n",
    "axs[0,0].set_title('BARLEY_Ha')\n",
    "pg.qqplot(variables_1.loc[variables_1.index, 'CORN_Ha'], dist='norm', ax=axs[0,1])\n",
    "axs[0,1].set_title('CORN_Ha')\n",
    "pg.qqplot(variables_1.loc[variables_1.index, 'COTTON_Ha'], dist='norm', ax=axs[0,2])\n",
    "axs[0,2].set_title('COTTON_Ha')\n",
    "pg.qqplot(variables_1.loc[variables_1.index, 'OATS_Ha'], dist='norm', ax=axs[1,0])\n",
    "axs[1,0].set_title('OATS_Ha')\n",
    "pg.qqplot(variables_1.loc[variables_1.index, 'SORGHUM_Ha'], dist='norm', ax=axs[1,1])\n",
    "axs[1,1].set_title('SORGHUM_Ha')\n",
    "pg.qqplot(variables_1.loc[variables_1.index, 'SOYBEANS_Ha'], dist='norm', ax=axs[1,2])\n",
    "axs[1,2].set_title('SOYBEANS_Ha')\n",
    "pg.qqplot(variables_1.loc[variables_1.index, 'WHEAT_Ha'], dist='norm', ax=axs[2,0])\n",
    "axs[2,0].set_title('WHEAT_Ha')\n",
    "plt.tight_layout()"
   ]
  },
  {
   "cell_type": "code",
   "execution_count": null,
   "metadata": {},
   "outputs": [],
   "source": [
    "#Gráficos qqplot (HECTAREAS)\n",
    "\n",
    "fig, axs = plt.subplots(3, 3, figsize=(10, 9))\n",
    "pg.qqplot(variables_1.loc[variables_1.index, 'BARLEY_Temp'], dist='norm', ax=axs[0,0])\n",
    "axs[0,0].set_title('BARLEY_Temp')\n",
    "pg.qqplot(variables_1.loc[variables_1.index, 'CORN_Temp'], dist='norm', ax=axs[0,1])\n",
    "axs[0,1].set_title('CORN_Temp')\n",
    "pg.qqplot(variables_1.loc[variables_1.index, 'COTTON_Temp'], dist='norm', ax=axs[0,2])\n",
    "axs[0,2].set_title('COTTON_Temp')\n",
    "pg.qqplot(variables_1.loc[variables_1.index, 'OATS_Temp'], dist='norm', ax=axs[1,0])\n",
    "axs[1,0].set_title('OATS_Temp')\n",
    "pg.qqplot(variables_1.loc[variables_1.index, 'SORGHUM_Temp'], dist='norm', ax=axs[1,1])\n",
    "axs[1,1].set_title('SORGHUM_Temp')\n",
    "pg.qqplot(variables_1.loc[variables_1.index, 'SOYBEANS_Temp'], dist='norm', ax=axs[1,2])\n",
    "axs[1,2].set_title('SOYBEANS_Temp')\n",
    "pg.qqplot(variables_1.loc[variables_1.index, 'WHEAT_Temp'], dist='norm', ax=axs[2,0])\n",
    "axs[2,0].set_title('WHEAT_Temp')\n",
    "plt.tight_layout()"
   ]
  },
  {
   "cell_type": "code",
   "execution_count": null,
   "metadata": {},
   "outputs": [],
   "source": [
    "#Gráficos qqplot (HECTAREAS)\n",
    "\n",
    "fig, axs = plt.subplots(3, 3, figsize=(10, 9))\n",
    "pg.qqplot(variables_1.loc[variables_1.index, 'BARLEY_Prec'], dist='norm', ax=axs[0,0])\n",
    "axs[0,0].set_title('BARLEY_Prec')\n",
    "pg.qqplot(variables_1.loc[variables_1.index, 'CORN_Prec'], dist='norm', ax=axs[0,1])\n",
    "axs[0,1].set_title('CORN_Prec')\n",
    "pg.qqplot(variables_1.loc[variables_1.index, 'COTTON_Prec'], dist='norm', ax=axs[0,2])\n",
    "axs[0,2].set_title('COTTON_Prec')\n",
    "pg.qqplot(variables_1.loc[variables_1.index, 'OATS_Prec'], dist='norm', ax=axs[1,0])\n",
    "axs[1,0].set_title('OATS_Prec')\n",
    "pg.qqplot(variables_1.loc[variables_1.index, 'SORGHUM_Prec'], dist='norm', ax=axs[1,1])\n",
    "axs[1,1].set_title('SORGHUM_Prec')\n",
    "pg.qqplot(variables_1.loc[variables_1.index, 'SOYBEANS_Prec'], dist='norm', ax=axs[1,2])\n",
    "axs[1,2].set_title('SOYBEANS_Prec')\n",
    "pg.qqplot(variables_1.loc[variables_1.index, 'WHEAT_Prec'], dist='norm', ax=axs[2,0])\n",
    "axs[2,0].set_title('WHEAT_Prec')\n",
    "plt.tight_layout()"
   ]
  },
  {
   "cell_type": "code",
   "execution_count": null,
   "metadata": {},
   "outputs": [],
   "source": [
    "variables_1.to_csv('../DATOS/archivos creados analisis/variables_por_cultivos.csv')\n",
    "concat_selection.to_csv('../DATOS/archivos creados analisis/variables_origen_filtradas.csv', index=False)\n",
    "agrupation.to_csv('../DATOS/archivos creados analisis/agrupation.csv')"
   ]
  },
  {
   "cell_type": "markdown",
   "metadata": {},
   "source": [
    "[up](#id0)\n",
    "\n",
    "<div id='id7' />\n",
    "\n",
    "## Conclusiones\n",
    "\n",
    "- Analizando la correlación por intervalos de tiempo entre las variables de precipitación y temperatura a lo largo de toda la serie si que se encuentran picos donde la correlación es muy alta pero la media de los cultivos, en general, no da correlaciones que puedan relacionar la influencia de una variable sobre otra.\n",
    "- Los análisis de correlaciones lagueadas se realizaron con el fin de ver si el efecto de una variable independiente podría tener efecto un tiempo después sobre la variable dependiente, pero en estos casos de estudio se ha visto que no es así.\n",
    "- Analizando las correlaciones de los cultivos más importantes de EEUU se ha visto que la temperatura si que tienen correlaciones, ya sean negativas o positivas, significativas mientras que en la temperatura ocurre todo lo contrario, esto puede ser debido a que la precipitación puede ser sustituida de manera artificial mediante técnicas de riego. "
   ]
  },
  {
   "cell_type": "markdown",
   "metadata": {},
   "source": []
  }
 ],
 "metadata": {
  "kernelspec": {
   "display_name": "Python 3 (ipykernel)",
   "language": "python",
   "name": "python3"
  },
  "language_info": {
   "codemirror_mode": {
    "name": "ipython",
    "version": 3
   },
   "file_extension": ".py",
   "mimetype": "text/x-python",
   "name": "python",
   "nbconvert_exporter": "python",
   "pygments_lexer": "ipython3",
   "version": "3.9.13"
  },
  "vscode": {
   "interpreter": {
    "hash": "32a3e530000ba53acf1932123aae5e6f99e69a5f3504c7f27c942507bf3b5c74"
   }
  }
 },
 "nbformat": 4,
 "nbformat_minor": 2
}
