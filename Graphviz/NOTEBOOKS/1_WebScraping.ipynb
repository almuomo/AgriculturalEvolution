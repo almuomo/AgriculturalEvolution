{
 "cells": [
  {
   "attachments": {},
   "cell_type": "markdown",
   "id": "e9012c00",
   "metadata": {},
   "source": [
    "<div id='id0' />\n",
    "\n",
    "# Descarga de los datos climáticos de Temperatura y Precipitación"
   ]
  },
  {
   "attachments": {},
   "cell_type": "markdown",
   "id": "13470c97",
   "metadata": {},
   "source": [
    "El objetivo de este notebook es descargar de las páginas web de origen los datos necesarios para su posterior transformación y análisis"
   ]
  },
  {
   "attachments": {},
   "cell_type": "markdown",
   "id": "67f5d27d",
   "metadata": {},
   "source": [
    "## Indicaciones:\n",
    "\n",
    "1. Instalar librería selenium\n",
    "2. Descargar la aplicación \"Chromedriver\" (enlace a la descarga: https://chromedriver.chromium.org/ **tener en cuenta la versión del navegador**)\n",
    "\n",
    "Notas:\n",
    "- Para este caso, se debe utilizar el navegador Chrome \n",
    "- Los datos que se van a descargar por webscraping se encuentran en la página web: https://www.ncei.noaa.gov/access/monitoring/climate-at-a-glance/divisional/time-series"
   ]
  },
  {
   "attachments": {},
   "cell_type": "markdown",
   "id": "aad190a3",
   "metadata": {},
   "source": [
    "1. [Web Scraping](#id1)\n",
    "    - [Temperatura Media](#id2)\n",
    "    - [Precipitaciones](#id5)"
   ]
  },
  {
   "cell_type": "code",
   "execution_count": 1,
   "id": "47ffa4a8",
   "metadata": {},
   "outputs": [],
   "source": [
    "from bs4 import BeautifulSoup\n",
    "from selenium import webdriver\n",
    "from selenium.webdriver.chrome.service import Service\n",
    "from selenium.webdriver.support.ui import Select\n",
    "from selenium.webdriver.chrome import options\n",
    "\n",
    "import unittest\n",
    "import time\n",
    "\n",
    "from selenium.webdriver.support.ui import WebDriverWait\n",
    "from selenium.webdriver.common.by import By\n",
    "from selenium.webdriver.support import expected_conditions as EC"
   ]
  },
  {
   "attachments": {},
   "cell_type": "markdown",
   "id": "876942ff",
   "metadata": {},
   "source": [
    "[up](#id0)"
   ]
  },
  {
   "attachments": {},
   "cell_type": "markdown",
   "id": "7db5d4db",
   "metadata": {},
   "source": [
    "<div id='id1' />\n",
    "\n",
    "# Web Scraping"
   ]
  },
  {
   "attachments": {},
   "cell_type": "markdown",
   "id": "b44aefab",
   "metadata": {},
   "source": [
    "<div id='id2' />\n",
    "\n",
    "## Temperatura Media \n",
    "\n",
    "Selección de las temperaturas medias (ºF) para cada mes y para cada estado en el rango de años de 1950 hasta 2021."
   ]
  },
  {
   "cell_type": "code",
   "execution_count": null,
   "id": "e6a6ac01",
   "metadata": {},
   "outputs": [],
   "source": [
    "#Enlace a la página web\n",
    "website = 'https://www.ncei.noaa.gov/access/monitoring/climate-at-a-glance'\n",
    "path = ('../DATOS/chromedriver')\n",
    "folder_to_save_data = ('../DATOS/Clima/')\n",
    "\n",
    "driver = webdriver.Chrome(path)\n",
    "driver.get(website) \n",
    "driver.maximize_window()\n",
    "\n",
    "#Selección de los apartados a donde a donde se encuentra la información necesaria\n",
    "state_click = driver.execute_script(\"arguments[0].click();\", driver.find_element(by=By.XPATH, value='.//*[@id=\"show-statewide\"]/a'))\n",
    "time_series_click = driver.execute_script(\"arguments[0].click();\", driver.find_element(by=By.XPATH, value='.//*[@id=\"time-series\"]/div[3]/button'))\n",
    "\n",
    "#Selección de los años (para todos los archivos el mismo rango: 1950 - 2021)\n",
    "star_year_dropdown =Select(driver.find_element(by=By.ID, value='begyear'))\n",
    "star_year_dropdown.select_by_visible_text('1950')\n",
    "end_year_dropdown = Select(driver.find_element(by=By.ID, value='endyear'))\n",
    "end_year_dropdown.select_by_visible_text('2021')\n",
    "\n",
    "#Selección del parámetro a descargar:  Temperatura media\n",
    "parameter_dropdown = Select(driver.find_element(by=By.ID, value='parameter'))\n",
    "parameter_dropdown.select_by_visible_text('Average Temperature')\n",
    "\n",
    "#Creación de un for para recorrer todos los estados y todos los meses:\n",
    "\n",
    "#Selección del estado\n",
    "select_state = driver.find_element(by=By.XPATH, value='.//*[@id=\"state\"]')\n",
    "opcion_state = select_state.find_elements(by=By.TAG_NAME, value='option')\n",
    "\n",
    "#Selección del mes\n",
    "select_month = driver.find_element(by=By.XPATH, value = '//*[@id=\"month\"]')\n",
    "opcion_month = select_month.find_elements(by = By.TAG_NAME, value='option')\n",
    "\n",
    "for change_month in opcion_month:\n",
    "    change_month.click()\n",
    "\n",
    "    for change_state in opcion_state:\n",
    "        change_state.click()\n",
    "\n",
    "        plot = driver.execute_script(\"arguments[0].click();\", driver.find_element(by=By.XPATH, value='.//input[@id=\"submit\"]'))\n",
    "        time.sleep(3)\n",
    "\n",
    "        dowload = driver.execute_script(\"arguments[0].click();\", driver.find_element(By.XPATH, '//*[@id=\"csv-download\"]'))\n",
    "        time.sleep(3)"
   ]
  },
  {
   "attachments": {},
   "cell_type": "markdown",
   "id": "9f866f3d",
   "metadata": {},
   "source": [
    "[up](#id0)"
   ]
  },
  {
   "attachments": {},
   "cell_type": "markdown",
   "id": "57e1681c",
   "metadata": {},
   "source": [
    "<div id='id3' />\n",
    "\n",
    "## Precipitaciones\n",
    "\n",
    "Selección de las precipitacones (mm) para cada mes y para cada estado en el rango de años de 1950 hasta 2021"
   ]
  },
  {
   "cell_type": "code",
   "execution_count": null,
   "id": "da2efaef",
   "metadata": {},
   "outputs": [],
   "source": [
    "#Enlace a la página web\n",
    "website = 'https://www.ncei.noaa.gov/access/monitoring/climate-at-a-glance'\n",
    "path = ('../DATOS/chromedriver')\n",
    "\n",
    "driver = webdriver.Chrome(path)\n",
    "driver.get(website) \n",
    "driver.maximize_window()\n",
    "\n",
    "#Selección de los apartados a donde a donde se encuentra la información necesaria\n",
    "state_click = driver.execute_script(\"arguments[0].click();\", driver.find_element(by=By.XPATH, value='.//*[@id=\"show-statewide\"]/a'))\n",
    "time_series_click = driver.execute_script(\"arguments[0].click();\", driver.find_element(by=By.XPATH, value='.//*[@id=\"time-series\"]/div[3]/button'))\n",
    "\n",
    "#Selección de los años (para todos los archivos el mismo rango: 1950 - 2021)\n",
    "star_year_dropdown =Select(driver.find_element(by=By.ID, value='begyear'))\n",
    "star_year_dropdown.select_by_visible_text('1950')\n",
    "end_year_dropdown = Select(driver.find_element(by=By.ID, value='endyear'))\n",
    "end_year_dropdown.select_by_visible_text('2021')\n",
    "\n",
    "#Selección del parámetro a descargar:  Precipitacion media\n",
    "parameter_dropdown = Select(driver.find_element(by=By.ID, value='parameter'))\n",
    "parameter_dropdown.select_by_visible_text('Precipitation')\n",
    "\n",
    "#Creación de un for apra que recorra todos los estados y todos los meses:\n",
    "\n",
    "#Selección del estado\n",
    "select_state = driver.find_element(by=By.XPATH, value='.//*[@id=\"state\"]')\n",
    "opcion_state = select_state.find_elements(by=By.TAG_NAME, value='option')\n",
    "\n",
    "#Selección del mes\n",
    "select_month = driver.find_element(by=By.XPATH, value = '//*[@id=\"month\"]')\n",
    "opcion_month = select_month.find_elements(by = By.TAG_NAME, value='option')\n",
    "\n",
    "for change_month in opcion_month:\n",
    "    change_month.click()\n",
    "\n",
    "    for change_state in opcion_state:\n",
    "        change_state.click()\n",
    "\n",
    "        plot = driver.execute_script(\"arguments[0].click();\", driver.find_element(by=By.XPATH, value='.//input[@id=\"submit\"]'))\n",
    "        time.sleep(3)\n",
    "        dowload = driver.execute_script(\"arguments[0].click();\", driver.find_element(By.XPATH, '//*[@id=\"csv-download\"]'))\n",
    "        time.sleep(3)"
   ]
  }
 ],
 "metadata": {
  "kernelspec": {
   "display_name": "base",
   "language": "python",
   "name": "python3"
  },
  "language_info": {
   "codemirror_mode": {
    "name": "ipython",
    "version": 3
   },
   "file_extension": ".py",
   "mimetype": "text/x-python",
   "name": "python",
   "nbconvert_exporter": "python",
   "pygments_lexer": "ipython3",
   "version": "3.10.8"
  },
  "vscode": {
   "interpreter": {
    "hash": "70dfe2d2e6890c6571feadfe93b4fa53ea425920cc95829db8dcf7910bfb38d8"
   }
  }
 },
 "nbformat": 4,
 "nbformat_minor": 5
}
